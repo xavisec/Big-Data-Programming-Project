{
 "cells": [
  {
   "cell_type": "raw",
   "source": [
    "Libraries Import"
   ],
   "metadata": {
    "collapsed": false
   },
   "id": "a17fbdbf39e1f8e9"
  },
  {
   "cell_type": "code",
   "outputs": [],
   "source": [
    "import pandas as pd \n",
    "import numpy as np"
   ],
   "metadata": {
    "collapsed": false,
    "ExecuteTime": {
     "end_time": "2025-02-27T15:34:59.044836Z",
     "start_time": "2025-02-27T15:34:58.699129Z"
    }
   },
   "id": "eba29d985ac118e1",
   "execution_count": 1
  },
  {
   "cell_type": "raw",
   "source": [],
   "metadata": {
    "collapsed": false
   },
   "id": "e688139f090725fe"
  },
  {
   "cell_type": "code",
   "outputs": [],
   "source": [],
   "metadata": {
    "collapsed": false
   },
   "id": "893286fa9d305732"
  }
 ],
 "metadata": {
  "kernelspec": {
   "display_name": "Python 3",
   "language": "python",
   "name": "python3"
  },
  "language_info": {
   "codemirror_mode": {
    "name": "ipython",
    "version": 2
   },
   "file_extension": ".py",
   "mimetype": "text/x-python",
   "name": "python",
   "nbconvert_exporter": "python",
   "pygments_lexer": "ipython2",
   "version": "2.7.6"
  }
 },
 "nbformat": 4,
 "nbformat_minor": 5
}
