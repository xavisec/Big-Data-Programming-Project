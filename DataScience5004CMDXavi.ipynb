{
 "cells": [
  {
   "cell_type": "raw",
   "source": [
    "Libraries Import"
   ],
   "metadata": {
    "collapsed": false
   },
   "id": "a17fbdbf39e1f8e9"
  },
  {
   "cell_type": "code",
   "outputs": [],
   "source": [
    "import pandas as pd \n",
    "import numpy as np"
   ],
   "metadata": {
    "collapsed": false
   },
   "id": "eba29d985ac118e1"
  },
  {
   "cell_type": "raw",
   "source": [
    "B"
   ],
   "metadata": {
    "collapsed": false
   },
   "id": "e688139f090725fe"
  }
 ],
 "metadata": {
  "kernelspec": {
   "display_name": "Python 3",
   "language": "python",
   "name": "python3"
  },
  "language_info": {
   "codemirror_mode": {
    "name": "ipython",
    "version": 2
   },
   "file_extension": ".py",
   "mimetype": "text/x-python",
   "name": "python",
   "nbconvert_exporter": "python",
   "pygments_lexer": "ipython2",
   "version": "2.7.6"
  }
 },
 "nbformat": 4,
 "nbformat_minor": 5
}
