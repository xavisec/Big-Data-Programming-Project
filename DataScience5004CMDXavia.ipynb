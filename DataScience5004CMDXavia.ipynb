{
 "cells": [
  {
   "cell_type": "markdown",
   "id": "e02c124b5036151d",
   "metadata": {
    "collapsed": false
   },
   "source": [
    " # Libraries Import"
   ]
  },
  {
   "cell_type": "code",
   "execution_count": 139,
   "id": "4394a8abf5468c97",
   "metadata": {
    "collapsed": false,
    "ExecuteTime": {
     "end_time": "2025-03-05T23:57:46.641125Z",
     "start_time": "2025-03-05T23:57:46.638268Z"
    }
   },
   "outputs": [],
   "source": [
    "import pandas as pd\n",
    "import numpy as np\n",
    "import dask.dataframe as dd "
   ]
  },
  {
   "cell_type": "markdown",
   "id": "d4919ca49fe1dc90",
   "metadata": {
    "collapsed": false
   },
   "source": [
    " # Loading the Datasets using Pandas and Dask"
   ]
  },
  {
   "cell_type": "code",
   "execution_count": 140,
   "id": "35c541260fe2a568",
   "metadata": {
    "collapsed": false,
    "ExecuteTime": {
     "end_time": "2025-03-05T23:57:48.015229Z",
     "start_time": "2025-03-05T23:57:46.678133Z"
    }
   },
   "outputs": [],
   "source": [
    "TripsFullDataPandas = pd.read_csv('./DataSources/TripsFullData.csv')\n",
    "TripsByDistancePandas = pd.read_csv('./DataSources/TripsByDistance.csv')\n",
    "\n",
    "TripsFullDataDask = dd.read_csv('./DataSources/TripsFullData.csv')\n",
    "TripsByDistanceDask = dd.read_csv('./DataSources/TripsByDistance.csv')"
   ]
  },
  {
   "cell_type": "markdown",
   "id": "4f0b8c4efebd8ad2",
   "metadata": {
    "collapsed": false
   },
   "source": [
    " # Exploring the Dataset\n",
    " ## Data Types TripsFullDataPandas"
   ]
  },
  {
   "cell_type": "code",
   "execution_count": 141,
   "id": "821b7259610e0801",
   "metadata": {
    "collapsed": false,
    "ExecuteTime": {
     "end_time": "2025-03-05T23:57:48.020155Z",
     "start_time": "2025-03-05T23:57:48.016234Z"
    }
   },
   "outputs": [
    {
     "data": {
      "text/plain": "Month of Date                 object\nWeek of Date                  object\nYear of Date                   int64\nLevel                         object\nDate                          object\nWeek Ending Date              object\nTrips <1 Mile                  int64\nPeople Not Staying at Home     int64\nPopulation Staying at Home     int64\nTrips                          int64\nTrips 1-25 Miles               int64\nTrips 1-3 Miles                int64\nTrips 10-25 Miles              int64\nTrips 100-250 Miles            int64\nTrips 100+ Miles               int64\nTrips 25-100 Miles             int64\nTrips 25-50 Miles              int64\nTrips 250-500 Miles            int64\nTrips 3-5 Miles                int64\nTrips 5-10 Miles               int64\nTrips 50-100 Miles             int64\nTrips 500+ Miles               int64\ndtype: object"
     },
     "execution_count": 141,
     "metadata": {},
     "output_type": "execute_result"
    }
   ],
   "source": [
    "TripsFullDataPandas.dtypes "
   ]
  },
  {
   "cell_type": "markdown",
   "source": [
    " ## Data Types TripsByDistanceDask"
   ],
   "metadata": {
    "collapsed": false
   },
   "id": "bc24335a584510c7"
  },
  {
   "cell_type": "code",
   "outputs": [
    {
     "data": {
      "text/plain": "Level                             string[pyarrow]\nDate                              string[pyarrow]\nState FIPS                                float64\nState Postal Code                         float64\nCounty FIPS                               float64\nCounty Name                               float64\nPopulation Staying at Home                  int64\nPopulation Not Staying at Home              int64\nNumber of Trips                             int64\nNumber of Trips <1                          int64\nNumber of Trips 1-3                         int64\nNumber of Trips 3-5                         int64\nNumber of Trips 5-10                        int64\nNumber of Trips 10-25                       int64\nNumber of Trips 25-50                       int64\nNumber of Trips 50-100                      int64\nNumber of Trips 100-250                     int64\nNumber of Trips 250-500                     int64\nNumber of Trips >=500                       int64\nRow ID                            string[pyarrow]\nWeek                                        int64\nMonth                                       int64\ndtype: object"
     },
     "execution_count": 142,
     "metadata": {},
     "output_type": "execute_result"
    }
   ],
   "source": [
    "TripsByDistanceDask.dtypes "
   ],
   "metadata": {
    "collapsed": false,
    "ExecuteTime": {
     "end_time": "2025-03-05T23:57:48.024509Z",
     "start_time": "2025-03-05T23:57:48.020155Z"
    }
   },
   "id": "4feed61cd1eca200",
   "execution_count": 142
  },
  {
   "cell_type": "markdown",
   "source": [
    "## Statistical Analysis Summary"
   ],
   "metadata": {
    "collapsed": false
   },
   "id": "d835ac52145888f0"
  },
  {
   "cell_type": "code",
   "outputs": [],
   "source": [
    "print(TripsFullDataPandas.describe(include='all'))"
   ],
   "metadata": {
    "collapsed": false
   },
   "id": "50559c9b65ac24b2",
   "execution_count": null
  },
  {
   "cell_type": "code",
   "outputs": [],
   "source": [
    "print(TripsByDistancePandas.describe(include='all'))"
   ],
   "metadata": {
    "collapsed": false
   },
   "id": "84253a8584182378",
   "execution_count": 0
  },
  {
   "cell_type": "markdown",
   "source": [
    " ## Find if there are null values"
   ],
   "metadata": {
    "collapsed": false
   },
   "id": "3faebf5d962e0068"
  },
  {
   "cell_type": "code",
   "outputs": [
    {
     "data": {
      "text/plain": "Month of Date                 False\nWeek of Date                  False\nYear of Date                  False\nLevel                         False\nDate                          False\nWeek Ending Date              False\nTrips <1 Mile                 False\nPeople Not Staying at Home    False\nPopulation Staying at Home    False\nTrips                         False\nTrips 1-25 Miles              False\nTrips 1-3 Miles               False\nTrips 10-25 Miles             False\nTrips 100-250 Miles           False\nTrips 100+ Miles              False\nTrips 25-100 Miles            False\nTrips 25-50 Miles             False\nTrips 250-500 Miles           False\nTrips 3-5 Miles               False\nTrips 5-10 Miles              False\nTrips 50-100 Miles            False\nTrips 500+ Miles              False\ndtype: bool"
     },
     "execution_count": 144,
     "metadata": {},
     "output_type": "execute_result"
    }
   ],
   "source": [
    "TripsFullDataPandas.isnull().any()"
   ],
   "metadata": {
    "collapsed": false,
    "ExecuteTime": {
     "end_time": "2025-03-05T23:57:49.247120Z",
     "start_time": "2025-03-05T23:57:49.242879Z"
    }
   },
   "id": "8b23ae11dadf4f60",
   "execution_count": 144
  },
  {
   "cell_type": "code",
   "outputs": [
    {
     "data": {
      "text/plain": "Level                             False\nDate                              False\nState FIPS                         True\nState Postal Code                  True\nCounty FIPS                        True\nCounty Name                        True\nPopulation Staying at Home         True\nPopulation Not Staying at Home     True\nNumber of Trips                    True\nNumber of Trips <1                 True\nNumber of Trips 1-3                True\nNumber of Trips 3-5                True\nNumber of Trips 5-10               True\nNumber of Trips 10-25              True\nNumber of Trips 25-50              True\nNumber of Trips 50-100             True\nNumber of Trips 100-250            True\nNumber of Trips 250-500            True\nNumber of Trips >=500              True\nRow ID                            False\nWeek                              False\nMonth                             False\ndtype: bool"
     },
     "execution_count": 145,
     "metadata": {},
     "output_type": "execute_result"
    }
   ],
   "source": [
    "TripsByDistancePandas.isnull().any()"
   ],
   "metadata": {
    "collapsed": false,
    "ExecuteTime": {
     "end_time": "2025-03-05T23:57:49.352898Z",
     "start_time": "2025-03-05T23:57:49.247120Z"
    }
   },
   "id": "65f37f51dee9d74a",
   "execution_count": 145
  },
  {
   "cell_type": "code",
   "outputs": [
    {
     "name": "stdout",
     "output_type": "stream",
     "text": [
      "NaN values: 263856\n"
     ]
    }
   ],
   "source": [
    "nanValues = TripsByDistancePandas.isnull().sum().sum()\n",
    "print('NaN values:', nanValues)"
   ],
   "metadata": {
    "collapsed": false,
    "ExecuteTime": {
     "end_time": "2025-03-05T23:57:49.462956Z",
     "start_time": "2025-03-05T23:57:49.352898Z"
    }
   },
   "id": "35d15cc9a73e54f5",
   "execution_count": 146
  },
  {
   "cell_type": "code",
   "outputs": [],
   "source": [
    "rowWithNA = TripsByDistancePandas[TripsByDistancePandas.isna().any(axis=1)]\n",
    "rowWithNA.to_csv('rows_with_na.csv', index=False)"
   ],
   "metadata": {
    "collapsed": false,
    "ExecuteTime": {
     "end_time": "2025-03-05T23:57:49.929105Z",
     "start_time": "2025-03-05T23:57:49.462956Z"
    }
   },
   "id": "19209ebeb30ef75a",
   "execution_count": 147
  }
 ],
 "metadata": {
  "kernelspec": {
   "display_name": "Python 3 (ipykernel)",
   "language": "python",
   "name": "python3"
  },
  "language_info": {
   "codemirror_mode": {
    "name": "ipython",
    "version": 3
   },
   "file_extension": ".py",
   "mimetype": "text/x-python",
   "name": "python",
   "nbconvert_exporter": "python",
   "pygments_lexer": "ipython3",
   "version": "3.11.9"
  }
 },
 "nbformat": 4,
 "nbformat_minor": 5
}
