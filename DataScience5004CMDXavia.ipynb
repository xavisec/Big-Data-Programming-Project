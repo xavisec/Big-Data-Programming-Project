{
 "cells": [
  {
   "cell_type": "markdown",
   "source": [
    " # Libraries Import"
   ],
   "metadata": {
    "collapsed": false
   },
   "id": "e02c124b5036151d"
  },
  {
   "cell_type": "code",
   "outputs": [],
   "source": [
    "import pandas as pd\n",
    "import numpy as np\n",
    "import dask as dd"
   ],
   "metadata": {
    "collapsed": false,
    "ExecuteTime": {
     "end_time": "2025-03-03T18:09:54.426407Z",
     "start_time": "2025-03-03T18:09:54.424152Z"
    }
   },
   "id": "4394a8abf5468c97",
   "execution_count": 19
  },
  {
   "cell_type": "markdown",
   "source": [
    " # Loading the Datasets using Pandas and Dask"
   ],
   "metadata": {
    "collapsed": false
   },
   "id": "d4919ca49fe1dc90"
  },
  {
   "cell_type": "code",
   "outputs": [],
   "source": [
    "TripsFullDataPandas = pd.read_csv('./DataSources/TripsFullData.csv')\n",
    "TripsByDistancePandas = pd.read_csv('./DataSources/TripsByDistance.csv')\n",
    "\n",
    "TripsFullDataDask = dd.read_csv('./DataSources/TripsFullData.csv')\n",
    "TripsByDistanceDask = dd.read_csv('./DataSources/TripsByDistance.csv')"
   ],
   "metadata": {
    "collapsed": false,
    "ExecuteTime": {
     "end_time": "2025-03-03T18:09:55.671134Z",
     "start_time": "2025-03-03T18:09:54.426407Z"
    }
   },
   "id": "35c541260fe2a568",
   "execution_count": 20
  }
 ],
 "metadata": {
  "kernelspec": {
   "display_name": "Python 3",
   "language": "python",
   "name": "python3"
  },
  "language_info": {
   "codemirror_mode": {
    "name": "ipython",
    "version": 2
   },
   "file_extension": ".py",
   "mimetype": "text/x-python",
   "name": "python",
   "nbconvert_exporter": "python",
   "pygments_lexer": "ipython2",
   "version": "2.7.6"
  }
 },
 "nbformat": 4,
 "nbformat_minor": 5
}
