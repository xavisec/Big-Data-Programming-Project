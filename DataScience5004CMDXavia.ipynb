{
 "cells": [
  {
   "cell_type": "markdown",
   "source": [
    " # Libraries Import"
   ],
   "metadata": {
    "collapsed": false
   },
   "id": "e02c124b5036151d"
  },
  {
   "cell_type": "code",
   "outputs": [],
   "source": [
    "import pandas as pd\n",
    "import numpy as np"
   ],
   "metadata": {
    "collapsed": false,
    "ExecuteTime": {
     "end_time": "2025-03-03T18:06:43.159936Z",
     "start_time": "2025-03-03T18:06:43.156751Z"
    }
   },
   "id": "4394a8abf5468c97",
   "execution_count": 13
  },
  {
   "cell_type": "markdown",
   "source": [
    " # Libraries Import"
   ],
   "metadata": {
    "collapsed": false
   },
   "id": "d4919ca49fe1dc90"
  },
  {
   "cell_type": "code",
   "outputs": [],
   "source": [
    "TripsFullData = pd.read_csv('./DataSources/TripsFullData.csv')\n",
    "TripsByDistance = pd.read_csv('./DataSources/TripsByDistance.csv')"
   ],
   "metadata": {
    "collapsed": false,
    "ExecuteTime": {
     "end_time": "2025-03-03T18:06:44.542579Z",
     "start_time": "2025-03-03T18:06:43.175081Z"
    }
   },
   "id": "35c541260fe2a568",
   "execution_count": 14
  }
 ],
 "metadata": {
  "kernelspec": {
   "display_name": "Python 3",
   "language": "python",
   "name": "python3"
  },
  "language_info": {
   "codemirror_mode": {
    "name": "ipython",
    "version": 2
   },
   "file_extension": ".py",
   "mimetype": "text/x-python",
   "name": "python",
   "nbconvert_exporter": "python",
   "pygments_lexer": "ipython2",
   "version": "2.7.6"
  }
 },
 "nbformat": 4,
 "nbformat_minor": 5
}
