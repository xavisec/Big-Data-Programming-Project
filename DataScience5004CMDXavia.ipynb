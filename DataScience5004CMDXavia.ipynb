{
 "cells": [
  {
   "cell_type": "markdown",
   "id": "e02c124b5036151d",
   "metadata": {
    "collapsed": false
   },
   "source": [
    " # Libraries Import"
   ]
  },
  {
   "cell_type": "code",
   "execution_count": 19,
   "id": "4394a8abf5468c97",
   "metadata": {
    "collapsed": false,
    "ExecuteTime": {
     "end_time": "2025-03-05T22:23:12.474023Z",
     "start_time": "2025-03-05T22:23:12.471661Z"
    }
   },
   "outputs": [],
   "source": [
    "import pandas as pd\n",
    "import numpy as np\n",
    "import dask.dataframe as dd "
   ]
  },
  {
   "cell_type": "markdown",
   "id": "d4919ca49fe1dc90",
   "metadata": {
    "collapsed": false
   },
   "source": [
    " # Loading the Datasets using Pandas and Dask"
   ]
  },
  {
   "cell_type": "code",
   "execution_count": 20,
   "id": "35c541260fe2a568",
   "metadata": {
    "collapsed": false,
    "ExecuteTime": {
     "end_time": "2025-03-05T22:23:13.803890Z",
     "start_time": "2025-03-05T22:23:12.475028Z"
    }
   },
   "outputs": [],
   "source": [
    "TripsFullDataPandas = pd.read_csv('./DataSources/TripsFullData.csv')\n",
    "TripsByDistancePandas = pd.read_csv('./DataSources/TripsByDistance.csv')\n",
    "\n",
    "TripsFullDataDask = dd.read_csv('./DataSources/TripsFullData.csv')\n",
    "TripsByDistanceDask = dd.read_csv('./DataSources/TripsByDistance.csv')"
   ]
  },
  {
   "cell_type": "markdown",
   "id": "4f0b8c4efebd8ad2",
   "metadata": {
    "collapsed": false
   },
   "source": [
    " # Exploring the Dataset\n",
    " ## DTypes "
   ]
  },
  {
   "cell_type": "code",
   "execution_count": 21,
   "id": "821b7259610e0801",
   "metadata": {
    "collapsed": false,
    "ExecuteTime": {
     "end_time": "2025-03-05T22:23:13.809Z",
     "start_time": "2025-03-05T22:23:13.804903Z"
    }
   },
   "outputs": [
    {
     "data": {
      "text/plain": "Month of Date                 object\nWeek of Date                  object\nYear of Date                   int64\nLevel                         object\nDate                          object\nWeek Ending Date              object\nTrips <1 Mile                  int64\nPeople Not Staying at Home     int64\nPopulation Staying at Home     int64\nTrips                          int64\nTrips 1-25 Miles               int64\nTrips 1-3 Miles                int64\nTrips 10-25 Miles              int64\nTrips 100-250 Miles            int64\nTrips 100+ Miles               int64\nTrips 25-100 Miles             int64\nTrips 25-50 Miles              int64\nTrips 250-500 Miles            int64\nTrips 3-5 Miles                int64\nTrips 5-10 Miles               int64\nTrips 50-100 Miles             int64\nTrips 500+ Miles               int64\ndtype: object"
     },
     "execution_count": 21,
     "metadata": {},
     "output_type": "execute_result"
    }
   ],
   "source": [
    "TripsFullDataPandas.dtypes "
   ]
  },
  {
   "cell_type": "code",
   "execution_count": 22,
   "id": "4feed61cd1eca200",
   "metadata": {
    "collapsed": false,
    "ExecuteTime": {
     "end_time": "2025-03-05T22:23:13.814407Z",
     "start_time": "2025-03-05T22:23:13.811004Z"
    }
   },
   "outputs": [
    {
     "data": {
      "text/plain": "Level                             string[pyarrow]\nDate                              string[pyarrow]\nState FIPS                                float64\nState Postal Code                         float64\nCounty FIPS                               float64\nCounty Name                               float64\nPopulation Staying at Home                  int64\nPopulation Not Staying at Home              int64\nNumber of Trips                             int64\nNumber of Trips <1                          int64\nNumber of Trips 1-3                         int64\nNumber of Trips 3-5                         int64\nNumber of Trips 5-10                        int64\nNumber of Trips 10-25                       int64\nNumber of Trips 25-50                       int64\nNumber of Trips 50-100                      int64\nNumber of Trips 100-250                     int64\nNumber of Trips 250-500                     int64\nNumber of Trips >=500                       int64\nRow ID                            string[pyarrow]\nWeek                                        int64\nMonth                                       int64\ndtype: object"
     },
     "execution_count": 22,
     "metadata": {},
     "output_type": "execute_result"
    }
   ],
   "source": [
    "TripsByDistanceDask.dtypes \n"
   ]
  }
 ],
 "metadata": {
  "kernelspec": {
   "display_name": "Python 3 (ipykernel)",
   "language": "python",
   "name": "python3"
  },
  "language_info": {
   "codemirror_mode": {
    "name": "ipython",
    "version": 3
   },
   "file_extension": ".py",
   "mimetype": "text/x-python",
   "name": "python",
   "nbconvert_exporter": "python",
   "pygments_lexer": "ipython3",
   "version": "3.11.9"
  }
 },
 "nbformat": 4,
 "nbformat_minor": 5
}
