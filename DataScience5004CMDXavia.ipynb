{
 "cells": [
  {
   "cell_type": "markdown",
   "source": [
    " # Libraries Import"
   ],
   "metadata": {
    "collapsed": false
   },
   "id": "e02c124b5036151d"
  },
  {
   "cell_type": "code",
   "outputs": [],
   "source": [
    "import pandas as pd\n",
    "import numpy as np\n",
    "import dask.dataframe as dd "
   ],
   "metadata": {
    "collapsed": false,
    "ExecuteTime": {
     "end_time": "2025-03-27T12:06:53.822751Z",
     "start_time": "2025-03-27T12:06:53.818869Z"
    }
   },
   "id": "4394a8abf5468c97",
   "execution_count": 41
  },
  {
   "cell_type": "markdown",
   "id": "d4919ca49fe1dc90",
   "metadata": {
    "collapsed": false
   },
   "source": [
    " # Loading the Datasets using Pandas and Dask"
   ]
  },
  {
   "cell_type": "code",
   "execution_count": 42,
   "id": "35c541260fe2a568",
   "metadata": {
    "collapsed": false,
    "ExecuteTime": {
     "end_time": "2025-03-27T12:06:58.533210Z",
     "start_time": "2025-03-27T12:06:53.977232Z"
    }
   },
   "outputs": [],
   "source": [
    "TripsFullDataPandas = pd.read_csv('./DataSources/TripsFullData.csv')\n",
    "TripsByDistancePandas = pd.read_csv('./DataSources/TripsByDistance.csv')\n",
    "\n",
    "\n",
    "dtypeChange = {\n",
    "    \"Number of Trips\": \"float64\",  # Use float64 because of possible NaN values\n",
    "    \"Number of Trips 1-3\": \"float64\",\n",
    "    \"Number of Trips 10-25\": \"float64\",\n",
    "    \"Number of Trips 100-250\": \"float64\",\n",
    "    \"Number of Trips 25-50\": \"float64\",\n",
    "    \"Number of Trips 250-500\": \"float64\",\n",
    "    \"Number of Trips 3-5\": \"float64\",\n",
    "    \"Number of Trips 5-10\": \"float64\",\n",
    "    \"Number of Trips 50-100\": \"float64\",\n",
    "    \"Number of Trips <1\": \"float64\",\n",
    "    \"Number of Trips >=500\": \"float64\",\n",
    "    \"Population Not Staying at Home\": \"float64\",\n",
    "    \"Population Staying at Home\": \"float64\",\n",
    "}\n",
    "\n",
    "TripsFullDataPandas = pd.read_csv('./DataSources/TripsFullData.csv')\n",
    "TripsByDistancePandas = pd.read_csv('./DataSources/TripsByDistance.csv',dtype=dtypeChange)\n",
    "TripsFullDataDask = dd.read_csv('./DataSources/TripsFullData.csv')\n",
    "TripsByDistanceDask = dd.read_csv('./DataSources/TripsByDistance.csv', dtype=dtypeChange)\n",
    "\n"
   ]
  },
  {
   "cell_type": "markdown",
   "id": "4f0b8c4efebd8ad2",
   "metadata": {
    "collapsed": false
   },
   "source": [
    " # Exploring the Dataset\n",
    " ## Data Types TripsFullDataPandas"
   ]
  },
  {
   "cell_type": "code",
   "execution_count": 43,
   "id": "821b7259610e0801",
   "metadata": {
    "collapsed": false,
    "ExecuteTime": {
     "end_time": "2025-03-27T12:06:58.540085Z",
     "start_time": "2025-03-27T12:06:58.534226Z"
    }
   },
   "outputs": [
    {
     "data": {
      "text/plain": "Month of Date                 object\nWeek of Date                  object\nYear of Date                   int64\nLevel                         object\nDate                          object\nWeek Ending Date              object\nTrips <1 Mile                  int64\nPeople Not Staying at Home     int64\nPopulation Staying at Home     int64\nTrips                          int64\nTrips 1-25 Miles               int64\nTrips 1-3 Miles                int64\nTrips 10-25 Miles              int64\nTrips 100-250 Miles            int64\nTrips 100+ Miles               int64\nTrips 25-100 Miles             int64\nTrips 25-50 Miles              int64\nTrips 250-500 Miles            int64\nTrips 3-5 Miles                int64\nTrips 5-10 Miles               int64\nTrips 50-100 Miles             int64\nTrips 500+ Miles               int64\ndtype: object"
     },
     "execution_count": 43,
     "metadata": {},
     "output_type": "execute_result"
    }
   ],
   "source": [
    "TripsFullDataPandas.dtypes "
   ]
  },
  {
   "cell_type": "markdown",
   "source": [
    " ## Data Types TripsByDistancePandas"
   ],
   "metadata": {
    "collapsed": false
   },
   "id": "bc24335a584510c7"
  },
  {
   "cell_type": "code",
   "outputs": [
    {
     "data": {
      "text/plain": "Level                              object\nDate                               object\nState FIPS                        float64\nState Postal Code                  object\nCounty FIPS                       float64\nCounty Name                        object\nPopulation Staying at Home        float64\nPopulation Not Staying at Home    float64\nNumber of Trips                   float64\nNumber of Trips <1                float64\nNumber of Trips 1-3               float64\nNumber of Trips 3-5               float64\nNumber of Trips 5-10              float64\nNumber of Trips 10-25             float64\nNumber of Trips 25-50             float64\nNumber of Trips 50-100            float64\nNumber of Trips 100-250           float64\nNumber of Trips 250-500           float64\nNumber of Trips >=500             float64\nRow ID                             object\nWeek                                int64\nMonth                               int64\ndtype: object"
     },
     "execution_count": 44,
     "metadata": {},
     "output_type": "execute_result"
    }
   ],
   "source": [
    "TripsByDistancePandas.dtypes "
   ],
   "metadata": {
    "collapsed": false,
    "ExecuteTime": {
     "end_time": "2025-03-27T12:06:58.547572Z",
     "start_time": "2025-03-27T12:06:58.541093Z"
    }
   },
   "id": "4feed61cd1eca200",
   "execution_count": 44
  },
  {
   "cell_type": "markdown",
   "source": [
    "## Statistical Analysis Summary"
   ],
   "metadata": {
    "collapsed": false
   },
   "id": "d835ac52145888f0"
  },
  {
   "cell_type": "code",
   "outputs": [
    {
     "name": "stdout",
     "output_type": "stream",
     "text": [
      "       Month of Date Week of Date  Year of Date     Level           Date  \\\n",
      "count              7            7           7.0         7              7   \n",
      "unique             1            1           NaN         1              7   \n",
      "top           August      Week 32           NaN  National  8/4/2019 0:00   \n",
      "freq               7            7           NaN         7              1   \n",
      "mean             NaN          NaN        2019.0       NaN            NaN   \n",
      "std              NaN          NaN           0.0       NaN            NaN   \n",
      "min              NaN          NaN        2019.0       NaN            NaN   \n",
      "25%              NaN          NaN        2019.0       NaN            NaN   \n",
      "50%              NaN          NaN        2019.0       NaN            NaN   \n",
      "75%              NaN          NaN        2019.0       NaN            NaN   \n",
      "max              NaN          NaN        2019.0       NaN            NaN   \n",
      "\n",
      "       Week Ending Date  Trips <1 Mile  People Not Staying at Home  \\\n",
      "count                 7   7.000000e+00                7.000000e+00   \n",
      "unique                1            NaN                         NaN   \n",
      "top           10-Aug-19            NaN                         NaN   \n",
      "freq                  7            NaN                         NaN   \n",
      "mean                NaN   3.259764e+08                2.631041e+08   \n",
      "std                 NaN   2.424507e+07                5.029890e+06   \n",
      "min                 NaN   2.929597e+08                2.584041e+08   \n",
      "25%                 NaN   3.089499e+08                2.594875e+08   \n",
      "50%                 NaN   3.244432e+08                2.621998e+08   \n",
      "75%                 NaN   3.440244e+08                2.650241e+08   \n",
      "max                 NaN   3.584830e+08                2.721014e+08   \n",
      "\n",
      "        Population Staying at Home         Trips  ...  Trips 10-25 Miles  \\\n",
      "count                 7.000000e+00  7.000000e+00  ...       7.000000e+00   \n",
      "unique                         NaN           NaN  ...                NaN   \n",
      "top                            NaN           NaN  ...                NaN   \n",
      "freq                           NaN           NaN  ...                NaN   \n",
      "mean                  6.306337e+07  1.441692e+09  ...       2.310785e+08   \n",
      "std                   5.029890e+06  7.644026e+07  ...       1.595993e+07   \n",
      "min                   5.406600e+07  1.322685e+09  ...       2.009223e+08   \n",
      "25%                   6.114337e+07  1.397305e+09  ...       2.274326e+08   \n",
      "50%                   6.396766e+07  1.437762e+09  ...       2.305803e+08   \n",
      "75%                   6.667995e+07  1.496538e+09  ...       2.405966e+08   \n",
      "max                   6.776329e+07  1.543710e+09  ...       2.499887e+08   \n",
      "\n",
      "        Trips 100-250 Miles  Trips 100+ Miles  Trips 25-100 Miles  \\\n",
      "count          7.000000e+00      7.000000e+00        7.000000e+00   \n",
      "unique                  NaN               NaN                 NaN   \n",
      "top                     NaN               NaN                 NaN   \n",
      "freq                    NaN               NaN                 NaN   \n",
      "mean           6.850130e+06      1.212247e+07        8.803745e+07   \n",
      "std            1.117810e+06      2.045473e+06        5.376956e+06   \n",
      "min            5.379881e+06      8.528574e+06        7.942912e+07   \n",
      "25%            6.126720e+06      1.163900e+07        8.509894e+07   \n",
      "50%            6.535920e+06      1.225654e+07        8.759958e+07   \n",
      "75%            7.592922e+06      1.272771e+07        9.201497e+07   \n",
      "max            8.595827e+06      1.533879e+07        9.500565e+07   \n",
      "\n",
      "        Trips 25-50 Miles  Trips 250-500 Miles  Trips 3-5 Miles  \\\n",
      "count        7.000000e+00         7.000000e+00     7.000000e+00   \n",
      "unique                NaN                  NaN              NaN   \n",
      "top                   NaN                  NaN              NaN   \n",
      "freq                  NaN                  NaN              NaN   \n",
      "mean         6.915913e+07         1.829242e+06     1.815558e+08   \n",
      "std          5.147182e+06         3.015761e+05     6.145471e+06   \n",
      "min          5.951719e+07         1.272248e+06     1.713364e+08   \n",
      "25%          6.745464e+07         1.768012e+06     1.791034e+08   \n",
      "50%          7.014917e+07         1.823661e+06     1.793462e+08   \n",
      "75%          7.251285e+07         1.949574e+06     1.864191e+08   \n",
      "max          7.451258e+07         2.273613e+06     1.891633e+08   \n",
      "\n",
      "        Trips 5-10 Miles  Trips 50-100 Miles  Trips 500+ Miles  \n",
      "count       7.000000e+00        7.000000e+00      7.000000e+00  \n",
      "unique               NaN                 NaN               NaN  \n",
      "top                  NaN                 NaN               NaN  \n",
      "freq                 NaN                 NaN               NaN  \n",
      "mean        2.334445e+08        1.887832e+07      3.443101e+06  \n",
      "std         9.185330e+06        1.595080e+06      1.019597e+06  \n",
      "min         2.161219e+08        1.745041e+07      1.876445e+06  \n",
      "25%         2.309911e+08        1.764403e+07      2.813090e+06  \n",
      "50%         2.332487e+08        1.781955e+07      3.369125e+06  \n",
      "75%         2.394431e+08        2.020250e+07      4.277617e+06  \n",
      "max         2.438723e+08        2.118523e+07      4.674725e+06  \n",
      "\n",
      "[11 rows x 22 columns]\n"
     ]
    }
   ],
   "source": [
    "print(TripsFullDataPandas.describe(include='all'))"
   ],
   "metadata": {
    "collapsed": false,
    "ExecuteTime": {
     "end_time": "2025-03-27T12:06:58.576965Z",
     "start_time": "2025-03-27T12:06:58.548620Z"
    }
   },
   "id": "50559c9b65ac24b2",
   "execution_count": 45
  },
  {
   "cell_type": "code",
   "outputs": [
    {
     "name": "stdout",
     "output_type": "stream",
     "text": [
      "          Level       Date    State FIPS State Postal Code   County FIPS  \\\n",
      "count   1048575    1048575  1.047674e+06           1047674  1.001723e+06   \n",
      "unique        3        903           NaN                51           NaN   \n",
      "top      County  6/17/2021           NaN                TX           NaN   \n",
      "freq    1001723       3194           NaN             81859           NaN   \n",
      "mean        NaN        NaN  3.021900e+01               NaN  3.038029e+04   \n",
      "std         NaN        NaN  1.516822e+01               NaN  1.516011e+04   \n",
      "min         NaN        NaN  1.000000e+00               NaN  1.001000e+03   \n",
      "25%         NaN        NaN  1.800000e+01               NaN  1.817700e+04   \n",
      "50%         NaN        NaN  2.900000e+01               NaN  2.917500e+04   \n",
      "75%         NaN        NaN  4.500000e+01               NaN  4.508100e+04   \n",
      "max         NaN        NaN  5.600000e+01               NaN  5.604500e+04   \n",
      "\n",
      "              County Name  Population Staying at Home  \\\n",
      "count             1001723                1.035625e+06   \n",
      "unique               1877                         NaN   \n",
      "top     Washington County                         NaN   \n",
      "freq                 9560                         NaN   \n",
      "mean                  NaN                1.462917e+05   \n",
      "std                   NaN                2.225797e+06   \n",
      "min                   NaN                8.000000e+00   \n",
      "25%                   NaN                2.079000e+03   \n",
      "50%                   NaN                5.018000e+03   \n",
      "75%                   NaN                1.595000e+04   \n",
      "max                   NaN                1.102118e+08   \n",
      "\n",
      "        Population Not Staying at Home  Number of Trips  Number of Trips <1  \\\n",
      "count                     1.035625e+06     1.035625e+06        1.035625e+06   \n",
      "unique                             NaN              NaN                 NaN   \n",
      "top                                NaN              NaN                 NaN   \n",
      "freq                               NaN              NaN                 NaN   \n",
      "mean                      5.234714e+05     2.477794e+06        6.120798e+05   \n",
      "std                       7.649900e+06     3.618162e+07        9.003866e+06   \n",
      "min                       8.700000e+01     2.200000e+02        0.000000e+00   \n",
      "25%                       9.793000e+03     4.978400e+04        1.048600e+04   \n",
      "50%                       2.347400e+04     1.208760e+05        2.564200e+04   \n",
      "75%                       7.131800e+04     3.603300e+05        7.775300e+04   \n",
      "max                       2.737400e+08     1.569053e+09        4.227002e+08   \n",
      "\n",
      "        ...  Number of Trips 5-10  Number of Trips 10-25  \\\n",
      "count   ...          1.035625e+06           1.035625e+06   \n",
      "unique  ...                   NaN                    NaN   \n",
      "top     ...                   NaN                    NaN   \n",
      "freq    ...                   NaN                    NaN   \n",
      "mean    ...          3.843100e+05           3.759380e+05   \n",
      "std     ...          5.615742e+06           5.502116e+06   \n",
      "min     ...          0.000000e+00           0.000000e+00   \n",
      "25%     ...          6.463000e+03           8.001000e+03   \n",
      "50%     ...          1.699900e+04           1.934500e+04   \n",
      "75%     ...          5.446900e+04           5.515100e+04   \n",
      "max     ...          2.526118e+08           2.565096e+08   \n",
      "\n",
      "        Number of Trips 25-50  Number of Trips 50-100  \\\n",
      "count            1.035625e+06            1.035625e+06   \n",
      "unique                    NaN                     NaN   \n",
      "top                       NaN                     NaN   \n",
      "freq                      NaN                     NaN   \n",
      "mean             1.208128e+05            3.884712e+04   \n",
      "std              1.765528e+06            5.753918e+05   \n",
      "min              0.000000e+00            0.000000e+00   \n",
      "25%              3.860000e+03            1.240000e+03   \n",
      "50%              8.387000e+03            2.717000e+03   \n",
      "75%              2.109600e+04            6.679000e+03   \n",
      "max              7.636732e+07            2.873561e+07   \n",
      "\n",
      "        Number of Trips 100-250  Number of Trips 250-500  \\\n",
      "count              1.035625e+06             1.035625e+06   \n",
      "unique                      NaN                      NaN   \n",
      "top                         NaN                      NaN   \n",
      "freq                        NaN                      NaN   \n",
      "mean               1.582453e+04             3.553210e+03   \n",
      "std                2.404323e+05             5.346122e+04   \n",
      "min                0.000000e+00             0.000000e+00   \n",
      "25%                3.630000e+02             5.800000e+01   \n",
      "50%                8.570000e+02             1.730000e+02   \n",
      "75%                2.372000e+03             5.330000e+02   \n",
      "max                1.447698e+07             3.651375e+06   \n",
      "\n",
      "        Number of Trips >=500             Row ID          Week         Month  \n",
      "count            1.035625e+06            1048575  1.048575e+06  1.048575e+06  \n",
      "unique                    NaN            1048575           NaN           NaN  \n",
      "top                       NaN  19-19193-20191101           NaN           NaN  \n",
      "freq                      NaN                  1           NaN           NaN  \n",
      "mean             3.142248e+03                NaN  2.171479e+01  5.575419e+00  \n",
      "std              5.069772e+04                NaN  1.242963e+01  2.847674e+00  \n",
      "min              0.000000e+00                NaN  0.000000e+00  1.000000e+00  \n",
      "25%              2.700000e+01                NaN  1.100000e+01  3.000000e+00  \n",
      "50%              9.800000e+01                NaN  2.300000e+01  6.000000e+00  \n",
      "75%              4.260000e+02                NaN  3.200000e+01  8.000000e+00  \n",
      "max              5.003062e+06                NaN  5.200000e+01  1.200000e+01  \n",
      "\n",
      "[11 rows x 22 columns]\n"
     ]
    }
   ],
   "source": [
    "print(TripsByDistancePandas.describe(include='all'))"
   ],
   "metadata": {
    "collapsed": false,
    "ExecuteTime": {
     "end_time": "2025-03-27T12:07:00.614543Z",
     "start_time": "2025-03-27T12:06:58.578012Z"
    }
   },
   "id": "84253a8584182378",
   "execution_count": 46
  },
  {
   "cell_type": "markdown",
   "source": [
    " ## Find if there are null values"
   ],
   "metadata": {
    "collapsed": false
   },
   "id": "3faebf5d962e0068"
  },
  {
   "cell_type": "code",
   "outputs": [
    {
     "data": {
      "text/plain": "Month of Date                 False\nWeek of Date                  False\nYear of Date                  False\nLevel                         False\nDate                          False\nWeek Ending Date              False\nTrips <1 Mile                 False\nPeople Not Staying at Home    False\nPopulation Staying at Home    False\nTrips                         False\nTrips 1-25 Miles              False\nTrips 1-3 Miles               False\nTrips 10-25 Miles             False\nTrips 100-250 Miles           False\nTrips 100+ Miles              False\nTrips 25-100 Miles            False\nTrips 25-50 Miles             False\nTrips 250-500 Miles           False\nTrips 3-5 Miles               False\nTrips 5-10 Miles              False\nTrips 50-100 Miles            False\nTrips 500+ Miles              False\ndtype: bool"
     },
     "execution_count": 47,
     "metadata": {},
     "output_type": "execute_result"
    }
   ],
   "source": [
    "TripsFullDataPandas.isna().any()"
   ],
   "metadata": {
    "collapsed": false,
    "ExecuteTime": {
     "end_time": "2025-03-27T12:07:00.624008Z",
     "start_time": "2025-03-27T12:07:00.616922Z"
    }
   },
   "id": "8b23ae11dadf4f60",
   "execution_count": 47
  },
  {
   "cell_type": "code",
   "outputs": [
    {
     "data": {
      "text/plain": "Level                             False\nDate                              False\nState FIPS                         True\nState Postal Code                  True\nCounty FIPS                        True\nCounty Name                        True\nPopulation Staying at Home         True\nPopulation Not Staying at Home     True\nNumber of Trips                    True\nNumber of Trips <1                 True\nNumber of Trips 1-3                True\nNumber of Trips 3-5                True\nNumber of Trips 5-10               True\nNumber of Trips 10-25              True\nNumber of Trips 25-50              True\nNumber of Trips 50-100             True\nNumber of Trips 100-250            True\nNumber of Trips 250-500            True\nNumber of Trips >=500              True\nRow ID                            False\nWeek                              False\nMonth                             False\ndtype: bool"
     },
     "execution_count": 48,
     "metadata": {},
     "output_type": "execute_result"
    }
   ],
   "source": [
    "TripsByDistancePandas.isna().any()"
   ],
   "metadata": {
    "collapsed": false,
    "ExecuteTime": {
     "end_time": "2025-03-27T12:07:00.787699Z",
     "start_time": "2025-03-27T12:07:00.625168Z"
    }
   },
   "id": "65f37f51dee9d74a",
   "execution_count": 48
  },
  {
   "cell_type": "code",
   "outputs": [
    {
     "name": "stdout",
     "output_type": "stream",
     "text": [
      "NaN values: Level                                 0\n",
      "Date                                  0\n",
      "State FIPS                          901\n",
      "State Postal Code                   901\n",
      "County FIPS                       46852\n",
      "County Name                       46852\n",
      "Population Staying at Home        12950\n",
      "Population Not Staying at Home    12950\n",
      "Number of Trips                   12950\n",
      "Number of Trips <1                12950\n",
      "Number of Trips 1-3               12950\n",
      "Number of Trips 3-5               12950\n",
      "Number of Trips 5-10              12950\n",
      "Number of Trips 10-25             12950\n",
      "Number of Trips 25-50             12950\n",
      "Number of Trips 50-100            12950\n",
      "Number of Trips 100-250           12950\n",
      "Number of Trips 250-500           12950\n",
      "Number of Trips >=500             12950\n",
      "Row ID                                0\n",
      "Week                                  0\n",
      "Month                                 0\n",
      "dtype: int64\n"
     ]
    }
   ],
   "source": [
    "nanValues = TripsByDistancePandas.isna().sum()\n",
    "print('NaN values:', nanValues)\n"
   ],
   "metadata": {
    "collapsed": false,
    "ExecuteTime": {
     "end_time": "2025-03-27T12:07:00.959326Z",
     "start_time": "2025-03-27T12:07:00.788862Z"
    }
   },
   "id": "4ada63224ed0cab2",
   "execution_count": 49
  },
  {
   "cell_type": "markdown",
   "source": [
    " ## Creation of files with missing values"
   ],
   "metadata": {
    "collapsed": false
   },
   "id": "7a4075b0ad3ef222"
  },
  {
   "cell_type": "code",
   "outputs": [],
   "source": [
    "rowWithNA = TripsByDistancePandas[TripsByDistancePandas.isna().any(axis=1)]\n",
    "rowWithNA.to_csv('rows_with_na.csv', index=False)"
   ],
   "metadata": {
    "collapsed": false,
    "ExecuteTime": {
     "end_time": "2025-03-27T12:07:01.703786Z",
     "start_time": "2025-03-27T12:07:00.960506Z"
    }
   },
   "id": "4f72ff215555d815",
   "execution_count": 50
  },
  {
   "cell_type": "markdown",
   "source": [
    "## Check for duplicates"
   ],
   "metadata": {
    "collapsed": false
   },
   "id": "d259707ce5df9c10"
  },
  {
   "cell_type": "code",
   "outputs": [],
   "source": [],
   "metadata": {
    "collapsed": false,
    "ExecuteTime": {
     "end_time": "2025-03-27T12:07:01.708780Z",
     "start_time": "2025-03-27T12:07:01.705974Z"
    }
   },
   "id": "d94da2d3986359c0",
   "execution_count": 50
  },
  {
   "cell_type": "markdown",
   "source": [],
   "metadata": {
    "collapsed": false
   },
   "id": "56d7ebbc57491deb"
  },
  {
   "cell_type": "markdown",
   "source": [],
   "metadata": {
    "collapsed": false
   },
   "id": "95c3cf40f289cd4d"
  },
  {
   "cell_type": "markdown",
   "source": [
    " ## Second check for rows with only null/nan values        "
   ],
   "metadata": {
    "collapsed": false
   },
   "id": "dd0905dba0f18d02"
  },
  {
   "cell_type": "code",
   "outputs": [
    {
     "name": "stdout",
     "output_type": "stream",
     "text": [
      "No rows with all values missing/null/NaN found.\n"
     ]
    }
   ],
   "source": [
    "allMissingRows = TripsByDistancePandas[TripsByDistancePandas.isna().all(axis=1)]\n",
    "if allMissingRows.empty:\n",
    "    print(\"No rows with all values missing/null/NaN found.\")\n",
    "else:\n",
    "    print(f\"Rows where all values are missing/null/NaN: {allMissingRows}\")\n"
   ],
   "metadata": {
    "collapsed": false,
    "ExecuteTime": {
     "end_time": "2025-03-27T12:07:01.874951Z",
     "start_time": "2025-03-27T12:07:01.709789Z"
    }
   },
   "id": "d48229aff27d1866",
   "execution_count": 51
  },
  {
   "cell_type": "markdown",
   "source": [
    " ## Dropping values from TripsByDistance(Pandas/Dask) as it's the only dataset with missing values"
   ],
   "metadata": {
    "collapsed": false
   },
   "id": "7b94dd043fd0dd52"
  },
  {
   "cell_type": "code",
   "outputs": [],
   "source": [
    "#CleanTripsByDistancePandas = TripsByDistancePandas.dropna()\n",
    "#CleanTripsByDistancePandas.to_csv('CleanTripsByDistancePandas.csv', index=False)\n",
    "\n",
    "#CleanTripsByDistanceDask = TripsByDistanceDask.dropna()\n",
    "\n"
   ],
   "metadata": {
    "collapsed": false,
    "ExecuteTime": {
     "end_time": "2025-03-27T12:07:01.880841Z",
     "start_time": "2025-03-27T12:07:01.876009Z"
    }
   },
   "id": "499855440a9e6a13",
   "execution_count": 52
  },
  {
   "cell_type": "markdown",
   "source": [
    " ## Since both datasets contain matching columns, we are verifying whether their data types also align. Given that the FullData dataset only includes national-level data, we're checking whether the values match correctly (August 2019) — as the raw data appears quite different. Additionally, we are removing any columns that do not appear in both datasets (such as Year of Date), even if that information is already embedded within the Date column."
   ],
   "metadata": {
    "collapsed": false
   },
   "id": "921eec1d197be5d7"
  },
  {
   "cell_type": "code",
   "outputs": [],
   "source": [
    "TripsFullDataPandasWithoutSomeRows = TripsFullDataPandas.drop(['Year of Date', 'Week Ending Date', 'Trips 100+ Miles', 'Trips 25-100 Miles', 'Trips 1-25 Miles'], axis=1)\n",
    "\n",
    "TripsByDistanceWithoutSomeRows = TripsByDistancePandas.drop(['County FIPS', 'State FIPS', 'State Postal Code', 'County Name', 'Row ID'], axis=1)\n"
   ],
   "metadata": {
    "collapsed": false,
    "ExecuteTime": {
     "end_time": "2025-03-27T12:07:01.934050Z",
     "start_time": "2025-03-27T12:07:01.882437Z"
    }
   },
   "id": "a11355cae787a3f9",
   "execution_count": 53
  },
  {
   "cell_type": "code",
   "outputs": [
    {
     "data": {
      "text/plain": "Month                               int64\nWeek                                int64\nLevel                              object\nDate                               object\nNumber of Trips <1                float64\nPopulation Not Staying at Home    float64\nPopulation Staying at Home        float64\nNumber of Trips                   float64\nNumber of Trips 1-3               float64\nNumber of Trips 10-25             float64\nNumber of Trips 100-250           float64\nNumber of Trips 25-50             float64\nNumber of Trips 250-500           float64\nNumber of Trips 3-5               float64\nNumber of Trips 5-10              float64\nNumber of Trips 50-100            float64\nNumber of Trips >=500             float64\ndtype: object"
     },
     "execution_count": 54,
     "metadata": {},
     "output_type": "execute_result"
    }
   ],
   "source": [
    "renameColumns = {\n",
    "    'People Not Staying at Home': 'Population Not Staying at Home',\n",
    "    'Trips': 'Number of Trips',\n",
    "    'Trips <1 Mile': 'Number of Trips <1',\n",
    "    'Trips 1-3 Miles': 'Number of Trips 1-3',\n",
    "    'Trips 3-5 Miles': 'Number of Trips 3-5',\n",
    "    'Trips 5-10 Miles': 'Number of Trips 5-10',\n",
    "    'Trips 10-25 Miles': 'Number of Trips 10-25',\n",
    "    'Trips 25-50 Miles': 'Number of Trips 25-50',\n",
    "    'Trips 50-100 Miles': 'Number of Trips 50-100',\n",
    "    'Trips 100-250 Miles': 'Number of Trips 100-250',\n",
    "    'Trips 250-500 Miles': 'Number of Trips 250-500',\n",
    "    'Trips 500+ Miles': 'Number of Trips >=500',\n",
    "    'Week of Date': 'Week',\n",
    "    'Month of Date': 'Month'\n",
    "\n",
    "}\n",
    "TripsFullDataPandasWithoutSomeRows.rename(columns=renameColumns, inplace=True)\n",
    "\n",
    "for col, dtype in dtypeChange.items():\n",
    "    if col in TripsFullDataPandasWithoutSomeRows.columns:\n",
    "        TripsFullDataPandasWithoutSomeRows[col] = TripsFullDataPandasWithoutSomeRows[col].astype(dtype)\n",
    "        \n",
    "TripsFullDataPandasWithoutSomeRows['Week'] = TripsFullDataPandasWithoutSomeRows['Week'].replace('Week 32', '31').astype(int)\n",
    "TripsFullDataPandasWithoutSomeRows['Month'] = TripsFullDataPandasWithoutSomeRows['Month'].replace('August', '8').astype(int)\n",
    "TripsFullDataPandasWithoutSomeRows.dtypes \n"
   ],
   "metadata": {
    "collapsed": false,
    "ExecuteTime": {
     "end_time": "2025-03-27T12:07:01.948225Z",
     "start_time": "2025-03-27T12:07:01.935128Z"
    }
   },
   "id": "64d8a19873942f38",
   "execution_count": 54
  },
  {
   "cell_type": "code",
   "outputs": [
    {
     "data": {
      "text/plain": "Level                              object\nDate                               object\nPopulation Staying at Home        float64\nPopulation Not Staying at Home    float64\nNumber of Trips                   float64\nNumber of Trips <1                float64\nNumber of Trips 1-3               float64\nNumber of Trips 3-5               float64\nNumber of Trips 5-10              float64\nNumber of Trips 10-25             float64\nNumber of Trips 25-50             float64\nNumber of Trips 50-100            float64\nNumber of Trips 100-250           float64\nNumber of Trips 250-500           float64\nNumber of Trips >=500             float64\nWeek                                int64\nMonth                               int64\ndtype: object"
     },
     "execution_count": 55,
     "metadata": {},
     "output_type": "execute_result"
    }
   ],
   "source": [
    "TripsByDistanceWithoutSomeRows.dtypes "
   ],
   "metadata": {
    "collapsed": false,
    "ExecuteTime": {
     "end_time": "2025-03-27T12:07:01.955907Z",
     "start_time": "2025-03-27T12:07:01.949245Z"
    }
   },
   "id": "6bead5140e60fe59",
   "execution_count": 55
  },
  {
   "cell_type": "markdown",
   "source": [
    "### Comparing Datasets. First, we observe that FullData contains only national-level data. In contrast, TripsByDistance includes national data but does not contain the columns: State FIPS, State Postal Code, County, and County Name. Additionally, in TripsByDistance, the weeks are indexed starting from 0, whereas in FullData, the dataset uses a standard week numbering format — for example, it includes Week 32, which corresponds to Week 31 in TripsByDistance. If the rows actually match, it means these rows will not contribute to Null values in the comparison, as they represent consistent data that doesn't introduce discrepancies.\n"
   ],
   "metadata": {
    "collapsed": false
   },
   "id": "ad8724609ac20b77"
  },
  {
   "cell_type": "code",
   "outputs": [],
   "source": [
    "TripsByDistanceWithoutSomeRows = TripsByDistanceWithoutSomeRows[\n",
    "    TripsByDistanceWithoutSomeRows['Date'].astype(str).str.contains('2019') &\n",
    "    (TripsByDistanceWithoutSomeRows['Week'] == 31) &\n",
    "    TripsByDistanceWithoutSomeRows['Level'].astype(str).str.contains('National')].copy()\n",
    "\n",
    "TripsFullDataPandasWithoutSomeRows['Date'] = pd.to_datetime(TripsFullDataPandasWithoutSomeRows['Date'])\n",
    "TripsByDistanceWithoutSomeRows['Date'] = pd.to_datetime(TripsByDistanceWithoutSomeRows['Date'])\n",
    "\n",
    "        "
   ],
   "metadata": {
    "collapsed": false,
    "ExecuteTime": {
     "end_time": "2025-03-27T12:07:02.429058Z",
     "start_time": "2025-03-27T12:07:01.956919Z"
    }
   },
   "id": "9f96f8a14f112a2f",
   "execution_count": 56
  },
  {
   "cell_type": "code",
   "outputs": [
    {
     "name": "stdout",
     "output_type": "stream",
     "text": [
      "Month: Values are identical.\n",
      "Week: Values are identical.\n",
      "Level: Values are identical.\n",
      "Date: Values are identical.\n",
      "Number of Trips <1: Values are identical.\n",
      "Population Not Staying at Home: Values are identical.\n",
      "Population Staying at Home: Values are identical.\n",
      "Number of Trips: Values are identical.\n",
      "Number of Trips 1-3: Values are identical.\n",
      "Number of Trips 10-25: Values are identical.\n",
      "Number of Trips 100-250: Values are identical.\n",
      "Number of Trips 25-50: Values are identical.\n",
      "Number of Trips 250-500: Values are identical.\n",
      "Number of Trips 3-5: Values are identical.\n",
      "Number of Trips 5-10: Values are identical.\n",
      "Number of Trips 50-100: Values are identical.\n",
      "Number of Trips >=500: Values are identical.\n"
     ]
    }
   ],
   "source": [
    "TripsFullDataPandasWithoutSomeRows = TripsFullDataPandasWithoutSomeRows.reset_index(drop=True)\n",
    "TripsByDistanceWithoutSomeRows = TripsByDistanceWithoutSomeRows.reset_index(drop=True)\n",
    "\n",
    "for col in TripsFullDataPandasWithoutSomeRows.columns:\n",
    "    if TripsFullDataPandasWithoutSomeRows[col].equals(TripsByDistanceWithoutSomeRows[col]):\n",
    "        print(f\"{col}: Values are identical.\")\n",
    "    else:\n",
    "        print(f\"{col}: Differences found.\")\n",
    "        \n",
    "        # Show which rows are different\n",
    "        mismatches = TripsFullDataPandasWithoutSomeRows[col] != TripsByDistanceWithoutSomeRows[col]\n",
    "        mismatchesDF = pd.DataFrame({\n",
    "            'FullData': TripsFullDataPandasWithoutSomeRows[col][mismatches],\n",
    "            'ByDistance': TripsByDistanceWithoutSomeRows[col][mismatches]\n",
    "        })\n",
    "        print(mismatchesDF)"
   ],
   "metadata": {
    "collapsed": false,
    "ExecuteTime": {
     "end_time": "2025-03-27T12:07:02.438722Z",
     "start_time": "2025-03-27T12:07:02.431168Z"
    }
   },
   "id": "7dc2246ee8cfafd0",
   "execution_count": 57
  },
  {
   "cell_type": "code",
   "outputs": [
    {
     "data": {
      "text/plain": "      Level       Date  Population Staying at Home  \\\n0  National 2019-08-04                  67763287.0   \n1  National 2019-08-05                  63967662.0   \n2  National 2019-08-06                  66071287.0   \n3  National 2019-08-07                  67288618.0   \n4  National 2019-08-08                  63757375.0   \n5  National 2019-08-09                  54066003.0   \n6  National 2019-08-10                  58529356.0   \n\n   Population Not Staying at Home  Number of Trips  Number of Trips <1  \\\n0                     258404133.0     1.322685e+09         292959749.0   \n1                     262199758.0     1.412564e+09         317133861.0   \n2                     260096133.0     1.437762e+09         324443205.0   \n3                     258878802.0     1.543710e+09         358483024.0   \n4                     262410045.0     1.382045e+09         300765870.0   \n5                     272101417.0     1.501572e+09         341515854.0   \n6                     267638064.0     1.491503e+09         346532975.0   \n\n   Number of Trips 1-3  Number of Trips 3-5  Number of Trips 5-10  \\\n0          346577279.0          171336406.0           216121882.0   \n1          358008909.0          178996059.0           231048425.0   \n2          366533991.0          179210645.0           233248732.0   \n3          401474049.0          189163336.0           243872277.0   \n4          347857770.0          179346163.0           230933709.0   \n5          378936486.0          186257669.0           242027669.0   \n6          386948113.0          186580557.0           236858554.0   \n\n   Number of Trips 10-25  Number of Trips 25-50  Number of Trips 50-100  \\\n0            200922270.0             59517188.0              19911937.0   \n1            228809869.0             68184743.0              17819554.0   \n2            235621127.0             70149166.0              17450413.0   \n3            249988663.0             74381367.0              17819019.0   \n4            226055368.0             66724543.0              17469044.0   \n5            245571995.0             74512584.0              20493069.0   \n6            230580285.0             70644329.0              21185227.0   \n\n   Number of Trips 100-250  Number of Trips 250-500  Number of Trips >=500  \\\n0                8595827.0                2273613.0              4469346.0   \n1                6535920.0                1941260.0              4085888.0   \n2                5993704.0                1741994.0              3369125.0   \n3                5379881.0                1272248.0              1876445.0   \n4                6259735.0                1957888.0              4674725.0   \n5                7635743.0                1823661.0              2797133.0   \n6                7550100.0                1794030.0              2829046.0   \n\n   Week  Month  \n0    31      8  \n1    31      8  \n2    31      8  \n3    31      8  \n4    31      8  \n5    31      8  \n6    31      8  ",
      "text/html": "<div>\n<style scoped>\n    .dataframe tbody tr th:only-of-type {\n        vertical-align: middle;\n    }\n\n    .dataframe tbody tr th {\n        vertical-align: top;\n    }\n\n    .dataframe thead th {\n        text-align: right;\n    }\n</style>\n<table border=\"1\" class=\"dataframe\">\n  <thead>\n    <tr style=\"text-align: right;\">\n      <th></th>\n      <th>Level</th>\n      <th>Date</th>\n      <th>Population Staying at Home</th>\n      <th>Population Not Staying at Home</th>\n      <th>Number of Trips</th>\n      <th>Number of Trips &lt;1</th>\n      <th>Number of Trips 1-3</th>\n      <th>Number of Trips 3-5</th>\n      <th>Number of Trips 5-10</th>\n      <th>Number of Trips 10-25</th>\n      <th>Number of Trips 25-50</th>\n      <th>Number of Trips 50-100</th>\n      <th>Number of Trips 100-250</th>\n      <th>Number of Trips 250-500</th>\n      <th>Number of Trips &gt;=500</th>\n      <th>Week</th>\n      <th>Month</th>\n    </tr>\n  </thead>\n  <tbody>\n    <tr>\n      <th>0</th>\n      <td>National</td>\n      <td>2019-08-04</td>\n      <td>67763287.0</td>\n      <td>258404133.0</td>\n      <td>1.322685e+09</td>\n      <td>292959749.0</td>\n      <td>346577279.0</td>\n      <td>171336406.0</td>\n      <td>216121882.0</td>\n      <td>200922270.0</td>\n      <td>59517188.0</td>\n      <td>19911937.0</td>\n      <td>8595827.0</td>\n      <td>2273613.0</td>\n      <td>4469346.0</td>\n      <td>31</td>\n      <td>8</td>\n    </tr>\n    <tr>\n      <th>1</th>\n      <td>National</td>\n      <td>2019-08-05</td>\n      <td>63967662.0</td>\n      <td>262199758.0</td>\n      <td>1.412564e+09</td>\n      <td>317133861.0</td>\n      <td>358008909.0</td>\n      <td>178996059.0</td>\n      <td>231048425.0</td>\n      <td>228809869.0</td>\n      <td>68184743.0</td>\n      <td>17819554.0</td>\n      <td>6535920.0</td>\n      <td>1941260.0</td>\n      <td>4085888.0</td>\n      <td>31</td>\n      <td>8</td>\n    </tr>\n    <tr>\n      <th>2</th>\n      <td>National</td>\n      <td>2019-08-06</td>\n      <td>66071287.0</td>\n      <td>260096133.0</td>\n      <td>1.437762e+09</td>\n      <td>324443205.0</td>\n      <td>366533991.0</td>\n      <td>179210645.0</td>\n      <td>233248732.0</td>\n      <td>235621127.0</td>\n      <td>70149166.0</td>\n      <td>17450413.0</td>\n      <td>5993704.0</td>\n      <td>1741994.0</td>\n      <td>3369125.0</td>\n      <td>31</td>\n      <td>8</td>\n    </tr>\n    <tr>\n      <th>3</th>\n      <td>National</td>\n      <td>2019-08-07</td>\n      <td>67288618.0</td>\n      <td>258878802.0</td>\n      <td>1.543710e+09</td>\n      <td>358483024.0</td>\n      <td>401474049.0</td>\n      <td>189163336.0</td>\n      <td>243872277.0</td>\n      <td>249988663.0</td>\n      <td>74381367.0</td>\n      <td>17819019.0</td>\n      <td>5379881.0</td>\n      <td>1272248.0</td>\n      <td>1876445.0</td>\n      <td>31</td>\n      <td>8</td>\n    </tr>\n    <tr>\n      <th>4</th>\n      <td>National</td>\n      <td>2019-08-08</td>\n      <td>63757375.0</td>\n      <td>262410045.0</td>\n      <td>1.382045e+09</td>\n      <td>300765870.0</td>\n      <td>347857770.0</td>\n      <td>179346163.0</td>\n      <td>230933709.0</td>\n      <td>226055368.0</td>\n      <td>66724543.0</td>\n      <td>17469044.0</td>\n      <td>6259735.0</td>\n      <td>1957888.0</td>\n      <td>4674725.0</td>\n      <td>31</td>\n      <td>8</td>\n    </tr>\n    <tr>\n      <th>5</th>\n      <td>National</td>\n      <td>2019-08-09</td>\n      <td>54066003.0</td>\n      <td>272101417.0</td>\n      <td>1.501572e+09</td>\n      <td>341515854.0</td>\n      <td>378936486.0</td>\n      <td>186257669.0</td>\n      <td>242027669.0</td>\n      <td>245571995.0</td>\n      <td>74512584.0</td>\n      <td>20493069.0</td>\n      <td>7635743.0</td>\n      <td>1823661.0</td>\n      <td>2797133.0</td>\n      <td>31</td>\n      <td>8</td>\n    </tr>\n    <tr>\n      <th>6</th>\n      <td>National</td>\n      <td>2019-08-10</td>\n      <td>58529356.0</td>\n      <td>267638064.0</td>\n      <td>1.491503e+09</td>\n      <td>346532975.0</td>\n      <td>386948113.0</td>\n      <td>186580557.0</td>\n      <td>236858554.0</td>\n      <td>230580285.0</td>\n      <td>70644329.0</td>\n      <td>21185227.0</td>\n      <td>7550100.0</td>\n      <td>1794030.0</td>\n      <td>2829046.0</td>\n      <td>31</td>\n      <td>8</td>\n    </tr>\n  </tbody>\n</table>\n</div>"
     },
     "execution_count": 58,
     "metadata": {},
     "output_type": "execute_result"
    }
   ],
   "source": [
    "TripsByDistanceWithoutSomeRows.head(7)"
   ],
   "metadata": {
    "collapsed": false,
    "ExecuteTime": {
     "end_time": "2025-03-27T12:07:02.466444Z",
     "start_time": "2025-03-27T12:07:02.440957Z"
    }
   },
   "id": "903ab13431e10b2",
   "execution_count": 58
  },
  {
   "cell_type": "code",
   "outputs": [
    {
     "data": {
      "text/plain": "   Month  Week     Level       Date  Number of Trips <1  \\\n0      8    31  National 2019-08-04         292959749.0   \n1      8    31  National 2019-08-05         317133861.0   \n2      8    31  National 2019-08-06         324443205.0   \n3      8    31  National 2019-08-07         358483024.0   \n4      8    31  National 2019-08-08         300765870.0   \n5      8    31  National 2019-08-09         341515854.0   \n6      8    31  National 2019-08-10         346532975.0   \n\n   Population Not Staying at Home  Population Staying at Home  \\\n0                     258404133.0                  67763287.0   \n1                     262199758.0                  63967662.0   \n2                     260096133.0                  66071287.0   \n3                     258878802.0                  67288618.0   \n4                     262410045.0                  63757375.0   \n5                     272101417.0                  54066003.0   \n6                     267638064.0                  58529356.0   \n\n   Number of Trips  Number of Trips 1-3  Number of Trips 10-25  \\\n0     1.322685e+09          346577279.0            200922270.0   \n1     1.412564e+09          358008909.0            228809869.0   \n2     1.437762e+09          366533991.0            235621127.0   \n3     1.543710e+09          401474049.0            249988663.0   \n4     1.382045e+09          347857770.0            226055368.0   \n5     1.501572e+09          378936486.0            245571995.0   \n6     1.491503e+09          386948113.0            230580285.0   \n\n   Number of Trips 100-250  Number of Trips 25-50  Number of Trips 250-500  \\\n0                8595827.0             59517188.0                2273613.0   \n1                6535920.0             68184743.0                1941260.0   \n2                5993704.0             70149166.0                1741994.0   \n3                5379881.0             74381367.0                1272248.0   \n4                6259735.0             66724543.0                1957888.0   \n5                7635743.0             74512584.0                1823661.0   \n6                7550100.0             70644329.0                1794030.0   \n\n   Number of Trips 3-5  Number of Trips 5-10  Number of Trips 50-100  \\\n0          171336406.0           216121882.0              19911937.0   \n1          178996059.0           231048425.0              17819554.0   \n2          179210645.0           233248732.0              17450413.0   \n3          189163336.0           243872277.0              17819019.0   \n4          179346163.0           230933709.0              17469044.0   \n5          186257669.0           242027669.0              20493069.0   \n6          186580557.0           236858554.0              21185227.0   \n\n   Number of Trips >=500  \n0              4469346.0  \n1              4085888.0  \n2              3369125.0  \n3              1876445.0  \n4              4674725.0  \n5              2797133.0  \n6              2829046.0  ",
      "text/html": "<div>\n<style scoped>\n    .dataframe tbody tr th:only-of-type {\n        vertical-align: middle;\n    }\n\n    .dataframe tbody tr th {\n        vertical-align: top;\n    }\n\n    .dataframe thead th {\n        text-align: right;\n    }\n</style>\n<table border=\"1\" class=\"dataframe\">\n  <thead>\n    <tr style=\"text-align: right;\">\n      <th></th>\n      <th>Month</th>\n      <th>Week</th>\n      <th>Level</th>\n      <th>Date</th>\n      <th>Number of Trips &lt;1</th>\n      <th>Population Not Staying at Home</th>\n      <th>Population Staying at Home</th>\n      <th>Number of Trips</th>\n      <th>Number of Trips 1-3</th>\n      <th>Number of Trips 10-25</th>\n      <th>Number of Trips 100-250</th>\n      <th>Number of Trips 25-50</th>\n      <th>Number of Trips 250-500</th>\n      <th>Number of Trips 3-5</th>\n      <th>Number of Trips 5-10</th>\n      <th>Number of Trips 50-100</th>\n      <th>Number of Trips &gt;=500</th>\n    </tr>\n  </thead>\n  <tbody>\n    <tr>\n      <th>0</th>\n      <td>8</td>\n      <td>31</td>\n      <td>National</td>\n      <td>2019-08-04</td>\n      <td>292959749.0</td>\n      <td>258404133.0</td>\n      <td>67763287.0</td>\n      <td>1.322685e+09</td>\n      <td>346577279.0</td>\n      <td>200922270.0</td>\n      <td>8595827.0</td>\n      <td>59517188.0</td>\n      <td>2273613.0</td>\n      <td>171336406.0</td>\n      <td>216121882.0</td>\n      <td>19911937.0</td>\n      <td>4469346.0</td>\n    </tr>\n    <tr>\n      <th>1</th>\n      <td>8</td>\n      <td>31</td>\n      <td>National</td>\n      <td>2019-08-05</td>\n      <td>317133861.0</td>\n      <td>262199758.0</td>\n      <td>63967662.0</td>\n      <td>1.412564e+09</td>\n      <td>358008909.0</td>\n      <td>228809869.0</td>\n      <td>6535920.0</td>\n      <td>68184743.0</td>\n      <td>1941260.0</td>\n      <td>178996059.0</td>\n      <td>231048425.0</td>\n      <td>17819554.0</td>\n      <td>4085888.0</td>\n    </tr>\n    <tr>\n      <th>2</th>\n      <td>8</td>\n      <td>31</td>\n      <td>National</td>\n      <td>2019-08-06</td>\n      <td>324443205.0</td>\n      <td>260096133.0</td>\n      <td>66071287.0</td>\n      <td>1.437762e+09</td>\n      <td>366533991.0</td>\n      <td>235621127.0</td>\n      <td>5993704.0</td>\n      <td>70149166.0</td>\n      <td>1741994.0</td>\n      <td>179210645.0</td>\n      <td>233248732.0</td>\n      <td>17450413.0</td>\n      <td>3369125.0</td>\n    </tr>\n    <tr>\n      <th>3</th>\n      <td>8</td>\n      <td>31</td>\n      <td>National</td>\n      <td>2019-08-07</td>\n      <td>358483024.0</td>\n      <td>258878802.0</td>\n      <td>67288618.0</td>\n      <td>1.543710e+09</td>\n      <td>401474049.0</td>\n      <td>249988663.0</td>\n      <td>5379881.0</td>\n      <td>74381367.0</td>\n      <td>1272248.0</td>\n      <td>189163336.0</td>\n      <td>243872277.0</td>\n      <td>17819019.0</td>\n      <td>1876445.0</td>\n    </tr>\n    <tr>\n      <th>4</th>\n      <td>8</td>\n      <td>31</td>\n      <td>National</td>\n      <td>2019-08-08</td>\n      <td>300765870.0</td>\n      <td>262410045.0</td>\n      <td>63757375.0</td>\n      <td>1.382045e+09</td>\n      <td>347857770.0</td>\n      <td>226055368.0</td>\n      <td>6259735.0</td>\n      <td>66724543.0</td>\n      <td>1957888.0</td>\n      <td>179346163.0</td>\n      <td>230933709.0</td>\n      <td>17469044.0</td>\n      <td>4674725.0</td>\n    </tr>\n    <tr>\n      <th>5</th>\n      <td>8</td>\n      <td>31</td>\n      <td>National</td>\n      <td>2019-08-09</td>\n      <td>341515854.0</td>\n      <td>272101417.0</td>\n      <td>54066003.0</td>\n      <td>1.501572e+09</td>\n      <td>378936486.0</td>\n      <td>245571995.0</td>\n      <td>7635743.0</td>\n      <td>74512584.0</td>\n      <td>1823661.0</td>\n      <td>186257669.0</td>\n      <td>242027669.0</td>\n      <td>20493069.0</td>\n      <td>2797133.0</td>\n    </tr>\n    <tr>\n      <th>6</th>\n      <td>8</td>\n      <td>31</td>\n      <td>National</td>\n      <td>2019-08-10</td>\n      <td>346532975.0</td>\n      <td>267638064.0</td>\n      <td>58529356.0</td>\n      <td>1.491503e+09</td>\n      <td>386948113.0</td>\n      <td>230580285.0</td>\n      <td>7550100.0</td>\n      <td>70644329.0</td>\n      <td>1794030.0</td>\n      <td>186580557.0</td>\n      <td>236858554.0</td>\n      <td>21185227.0</td>\n      <td>2829046.0</td>\n    </tr>\n  </tbody>\n</table>\n</div>"
     },
     "execution_count": 59,
     "metadata": {},
     "output_type": "execute_result"
    }
   ],
   "source": [
    "TripsFullDataPandasWithoutSomeRows.head(7)"
   ],
   "metadata": {
    "collapsed": false,
    "ExecuteTime": {
     "end_time": "2025-03-27T12:07:02.482312Z",
     "start_time": "2025-03-27T12:07:02.467453Z"
    }
   },
   "id": "7152da6fe827466d",
   "execution_count": 59
  },
  {
   "cell_type": "markdown",
   "source": [
    "\n",
    "\n",
    "# Starting the analysis (Execution on Pandas and Dask)\n",
    "##  How many people are staying at home? How far are people traveling when they don’t stay home?  "
   ],
   "metadata": {
    "collapsed": false
   },
   "id": "eceb707fe5128bc6"
  },
  {
   "cell_type": "code",
   "outputs": [
    {
     "ename": "NameError",
     "evalue": "name 'CleanTripsByDistanceDask' is not defined",
     "output_type": "error",
     "traceback": [
      "\u001B[1;31m---------------------------------------------------------------------------\u001B[0m",
      "\u001B[1;31mNameError\u001B[0m                                 Traceback (most recent call last)",
      "Cell \u001B[1;32mIn[60], line 1\u001B[0m\n\u001B[1;32m----> 1\u001B[0m \u001B[43mCleanTripsByDistanceDask\u001B[49m[\u001B[38;5;124m'\u001B[39m\u001B[38;5;124mWeek\u001B[39m\u001B[38;5;124m'\u001B[39m]\u001B[38;5;241m.\u001B[39mnunique()\n",
      "\u001B[1;31mNameError\u001B[0m: name 'CleanTripsByDistanceDask' is not defined"
     ]
    }
   ],
   "source": [
    "CleanTripsByDistanceDask['Week'].nunique()"
   ],
   "metadata": {
    "collapsed": false,
    "ExecuteTime": {
     "end_time": "2025-03-27T12:07:02.496877Z",
     "start_time": "2025-03-27T12:07:02.483494Z"
    }
   },
   "id": "c0325b589da817c6",
   "execution_count": 60
  },
  {
   "cell_type": "code",
   "outputs": [],
   "source": [
    "CleanTripsByDistancePandas['Week'].nunique()"
   ],
   "metadata": {
    "collapsed": false,
    "ExecuteTime": {
     "start_time": "2025-03-27T12:07:02.498082Z"
    }
   },
   "id": "6278cdf4bfe7639b",
   "execution_count": null
  },
  {
   "cell_type": "code",
   "outputs": [],
   "source": [],
   "metadata": {
    "collapsed": false,
    "ExecuteTime": {
     "start_time": "2025-03-27T12:07:02.499164Z"
    }
   },
   "id": "bad10d0ddc55e3f3",
   "execution_count": null
  }
 ],
 "metadata": {
  "kernelspec": {
   "display_name": "Python 3 (ipykernel)",
   "language": "python",
   "name": "python3"
  },
  "language_info": {
   "codemirror_mode": {
    "name": "ipython",
    "version": 3
   },
   "file_extension": ".py",
   "mimetype": "text/x-python",
   "name": "python",
   "nbconvert_exporter": "python",
   "pygments_lexer": "ipython3",
   "version": "3.11.9"
  }
 },
 "nbformat": 4,
 "nbformat_minor": 5
}
