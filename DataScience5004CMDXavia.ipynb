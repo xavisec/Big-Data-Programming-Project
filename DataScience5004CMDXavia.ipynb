{
 "cells": [
  {
   "cell_type": "raw",
   "source": [
    "Libraries Import"
   ],
   "metadata": {
    "collapsed": false
   },
   "id": "a17fbdbf39e1f8e9"
  },
  {
   "cell_type": "code",
   "outputs": [],
   "source": [
    "import pandas as pd \n",
    "import numpy as np"
   ],
   "metadata": {
    "collapsed": false,
    "ExecuteTime": {
     "end_time": "2025-02-27T15:43:22.142488Z",
     "start_time": "2025-02-27T15:43:22.139771Z"
    }
   },
   "id": "c565bf7dd23bc7a6",
   "execution_count": 3
  },
  {
   "cell_type": "code",
   "outputs": [],
   "source": [
    "tripsByDistancee = pd.read(\"\")"
   ],
   "metadata": {
    "collapsed": false,
    "ExecuteTime": {
     "end_time": "2025-02-27T15:43:22.145123Z",
     "start_time": "2025-02-27T15:43:22.143493Z"
    }
   },
   "id": "35c541260fe2a568",
   "execution_count": 3
  }
 ],
 "metadata": {
  "kernelspec": {
   "display_name": "Python 3",
   "language": "python",
   "name": "python3"
  },
  "language_info": {
   "codemirror_mode": {
    "name": "ipython",
    "version": 2
   },
   "file_extension": ".py",
   "mimetype": "text/x-python",
   "name": "python",
   "nbconvert_exporter": "python",
   "pygments_lexer": "ipython2",
   "version": "2.7.6"
  }
 },
 "nbformat": 4,
 "nbformat_minor": 5
}
