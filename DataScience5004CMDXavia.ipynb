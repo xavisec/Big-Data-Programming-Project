{
 "cells": [
  {
   "cell_type": "markdown",
   "id": "e02c124b5036151d",
   "metadata": {
    "collapsed": false
   },
   "source": [
    " # Libraries Import"
   ]
  },
  {
   "cell_type": "code",
   "execution_count": 1,
   "id": "4394a8abf5468c97",
   "metadata": {
    "collapsed": false,
    "ExecuteTime": {
     "end_time": "2025-03-17T12:55:22.553129Z",
     "start_time": "2025-03-17T12:55:16.388838Z"
    }
   },
   "outputs": [],
   "source": [
    "import pandas as pd\n",
    "import numpy as np\n",
    "import dask.dataframe as dd "
   ]
  },
  {
   "cell_type": "markdown",
   "id": "d4919ca49fe1dc90",
   "metadata": {
    "collapsed": false
   },
   "source": [
    " # Loading the Datasets using Pandas and Dask"
   ]
  },
  {
   "cell_type": "code",
   "execution_count": 2,
   "id": "35c541260fe2a568",
   "metadata": {
    "collapsed": false,
    "ExecuteTime": {
     "end_time": "2025-03-17T12:55:24.021761Z",
     "start_time": "2025-03-17T12:55:22.553633Z"
    }
   },
   "outputs": [],
   "source": [
    "TripsFullDataPandas = pd.read_csv('./DataSources/TripsFullData.csv')\n",
    "TripsByDistancePandas = pd.read_csv('./DataSources/TripsByDistance.csv')\n",
    "\n",
    "TripsFullDataDask = dd.read_csv('./DataSources/TripsFullData.csv')\n",
    "TripsByDistanceDask = dd.read_csv('./DataSources/TripsByDistance.csv')"
   ]
  },
  {
   "cell_type": "markdown",
   "id": "4f0b8c4efebd8ad2",
   "metadata": {
    "collapsed": false
   },
   "source": [
    " # Exploring the Dataset\n",
    " ## Data Types TripsFullDataPandas"
   ]
  },
  {
   "cell_type": "code",
   "execution_count": 3,
   "id": "821b7259610e0801",
   "metadata": {
    "collapsed": false,
    "ExecuteTime": {
     "end_time": "2025-03-17T12:55:24.028135Z",
     "start_time": "2025-03-17T12:55:24.022781Z"
    }
   },
   "outputs": [
    {
     "data": {
      "text/plain": "Month of Date                 object\nWeek of Date                  object\nYear of Date                   int64\nLevel                         object\nDate                          object\nWeek Ending Date              object\nTrips <1 Mile                  int64\nPeople Not Staying at Home     int64\nPopulation Staying at Home     int64\nTrips                          int64\nTrips 1-25 Miles               int64\nTrips 1-3 Miles                int64\nTrips 10-25 Miles              int64\nTrips 100-250 Miles            int64\nTrips 100+ Miles               int64\nTrips 25-100 Miles             int64\nTrips 25-50 Miles              int64\nTrips 250-500 Miles            int64\nTrips 3-5 Miles                int64\nTrips 5-10 Miles               int64\nTrips 50-100 Miles             int64\nTrips 500+ Miles               int64\ndtype: object"
     },
     "execution_count": 3,
     "metadata": {},
     "output_type": "execute_result"
    }
   ],
   "source": [
    "TripsFullDataPandas.dtypes "
   ]
  },
  {
   "cell_type": "markdown",
   "source": [
    " ## Data Types TripsByDistanceDask"
   ],
   "metadata": {
    "collapsed": false
   },
   "id": "bc24335a584510c7"
  },
  {
   "cell_type": "code",
   "outputs": [
    {
     "data": {
      "text/plain": "Level                             string[pyarrow]\nDate                              string[pyarrow]\nState FIPS                                float64\nState Postal Code                         float64\nCounty FIPS                               float64\nCounty Name                               float64\nPopulation Staying at Home                  int64\nPopulation Not Staying at Home              int64\nNumber of Trips                             int64\nNumber of Trips <1                          int64\nNumber of Trips 1-3                         int64\nNumber of Trips 3-5                         int64\nNumber of Trips 5-10                        int64\nNumber of Trips 10-25                       int64\nNumber of Trips 25-50                       int64\nNumber of Trips 50-100                      int64\nNumber of Trips 100-250                     int64\nNumber of Trips 250-500                     int64\nNumber of Trips >=500                       int64\nRow ID                            string[pyarrow]\nWeek                                        int64\nMonth                                       int64\ndtype: object"
     },
     "execution_count": 4,
     "metadata": {},
     "output_type": "execute_result"
    }
   ],
   "source": [
    "TripsByDistanceDask.dtypes "
   ],
   "metadata": {
    "collapsed": false,
    "ExecuteTime": {
     "end_time": "2025-03-17T12:55:24.041139Z",
     "start_time": "2025-03-17T12:55:24.029140Z"
    }
   },
   "id": "4feed61cd1eca200",
   "execution_count": 4
  },
  {
   "cell_type": "markdown",
   "source": [
    "## Statistical Analysis Summary"
   ],
   "metadata": {
    "collapsed": false
   },
   "id": "d835ac52145888f0"
  },
  {
   "cell_type": "code",
   "outputs": [
    {
     "name": "stdout",
     "output_type": "stream",
     "text": [
      "       Month of Date Week of Date  Year of Date     Level           Date  \\\n",
      "count              7            7           7.0         7              7   \n",
      "unique             1            1           NaN         1              7   \n",
      "top           August      Week 32           NaN  National  8/4/2019 0:00   \n",
      "freq               7            7           NaN         7              1   \n",
      "mean             NaN          NaN        2019.0       NaN            NaN   \n",
      "std              NaN          NaN           0.0       NaN            NaN   \n",
      "min              NaN          NaN        2019.0       NaN            NaN   \n",
      "25%              NaN          NaN        2019.0       NaN            NaN   \n",
      "50%              NaN          NaN        2019.0       NaN            NaN   \n",
      "75%              NaN          NaN        2019.0       NaN            NaN   \n",
      "max              NaN          NaN        2019.0       NaN            NaN   \n",
      "\n",
      "       Week Ending Date  Trips <1 Mile  People Not Staying at Home  \\\n",
      "count                 7   7.000000e+00                7.000000e+00   \n",
      "unique                1            NaN                         NaN   \n",
      "top           10-Aug-19            NaN                         NaN   \n",
      "freq                  7            NaN                         NaN   \n",
      "mean                NaN   3.259764e+08                2.631041e+08   \n",
      "std                 NaN   2.424507e+07                5.029890e+06   \n",
      "min                 NaN   2.929597e+08                2.584041e+08   \n",
      "25%                 NaN   3.089499e+08                2.594875e+08   \n",
      "50%                 NaN   3.244432e+08                2.621998e+08   \n",
      "75%                 NaN   3.440244e+08                2.650241e+08   \n",
      "max                 NaN   3.584830e+08                2.721014e+08   \n",
      "\n",
      "        Population Staying at Home         Trips  ...  Trips 10-25 Miles  \\\n",
      "count                 7.000000e+00  7.000000e+00  ...       7.000000e+00   \n",
      "unique                         NaN           NaN  ...                NaN   \n",
      "top                            NaN           NaN  ...                NaN   \n",
      "freq                           NaN           NaN  ...                NaN   \n",
      "mean                  6.306337e+07  1.441692e+09  ...       2.310785e+08   \n",
      "std                   5.029890e+06  7.644026e+07  ...       1.595993e+07   \n",
      "min                   5.406600e+07  1.322685e+09  ...       2.009223e+08   \n",
      "25%                   6.114337e+07  1.397305e+09  ...       2.274326e+08   \n",
      "50%                   6.396766e+07  1.437762e+09  ...       2.305803e+08   \n",
      "75%                   6.667995e+07  1.496538e+09  ...       2.405966e+08   \n",
      "max                   6.776329e+07  1.543710e+09  ...       2.499887e+08   \n",
      "\n",
      "        Trips 100-250 Miles  Trips 100+ Miles  Trips 25-100 Miles  \\\n",
      "count          7.000000e+00      7.000000e+00        7.000000e+00   \n",
      "unique                  NaN               NaN                 NaN   \n",
      "top                     NaN               NaN                 NaN   \n",
      "freq                    NaN               NaN                 NaN   \n",
      "mean           6.850130e+06      1.212247e+07        8.803745e+07   \n",
      "std            1.117810e+06      2.045473e+06        5.376956e+06   \n",
      "min            5.379881e+06      8.528574e+06        7.942912e+07   \n",
      "25%            6.126720e+06      1.163900e+07        8.509894e+07   \n",
      "50%            6.535920e+06      1.225654e+07        8.759958e+07   \n",
      "75%            7.592922e+06      1.272771e+07        9.201497e+07   \n",
      "max            8.595827e+06      1.533879e+07        9.500565e+07   \n",
      "\n",
      "        Trips 25-50 Miles  Trips 250-500 Miles  Trips 3-5 Miles  \\\n",
      "count        7.000000e+00         7.000000e+00     7.000000e+00   \n",
      "unique                NaN                  NaN              NaN   \n",
      "top                   NaN                  NaN              NaN   \n",
      "freq                  NaN                  NaN              NaN   \n",
      "mean         6.915913e+07         1.829242e+06     1.815558e+08   \n",
      "std          5.147182e+06         3.015761e+05     6.145471e+06   \n",
      "min          5.951719e+07         1.272248e+06     1.713364e+08   \n",
      "25%          6.745464e+07         1.768012e+06     1.791034e+08   \n",
      "50%          7.014917e+07         1.823661e+06     1.793462e+08   \n",
      "75%          7.251285e+07         1.949574e+06     1.864191e+08   \n",
      "max          7.451258e+07         2.273613e+06     1.891633e+08   \n",
      "\n",
      "        Trips 5-10 Miles  Trips 50-100 Miles  Trips 500+ Miles  \n",
      "count       7.000000e+00        7.000000e+00      7.000000e+00  \n",
      "unique               NaN                 NaN               NaN  \n",
      "top                  NaN                 NaN               NaN  \n",
      "freq                 NaN                 NaN               NaN  \n",
      "mean        2.334445e+08        1.887832e+07      3.443101e+06  \n",
      "std         9.185330e+06        1.595080e+06      1.019597e+06  \n",
      "min         2.161219e+08        1.745041e+07      1.876445e+06  \n",
      "25%         2.309911e+08        1.764403e+07      2.813090e+06  \n",
      "50%         2.332487e+08        1.781955e+07      3.369125e+06  \n",
      "75%         2.394431e+08        2.020250e+07      4.277617e+06  \n",
      "max         2.438723e+08        2.118523e+07      4.674725e+06  \n",
      "\n",
      "[11 rows x 22 columns]\n"
     ]
    }
   ],
   "source": [
    "print(TripsFullDataPandas.describe(include='all'))"
   ],
   "metadata": {
    "collapsed": false,
    "ExecuteTime": {
     "end_time": "2025-03-17T12:55:24.089443Z",
     "start_time": "2025-03-17T12:55:24.041643Z"
    }
   },
   "id": "50559c9b65ac24b2",
   "execution_count": 5
  },
  {
   "cell_type": "code",
   "outputs": [
    {
     "name": "stdout",
     "output_type": "stream",
     "text": [
      "          Level       Date    State FIPS State Postal Code   County FIPS  \\\n",
      "count   1048575    1048575  1.047674e+06           1047674  1.001723e+06   \n",
      "unique        3        903           NaN                51           NaN   \n",
      "top      County  6/17/2021           NaN                TX           NaN   \n",
      "freq    1001723       3194           NaN             81859           NaN   \n",
      "mean        NaN        NaN  3.021900e+01               NaN  3.038029e+04   \n",
      "std         NaN        NaN  1.516822e+01               NaN  1.516011e+04   \n",
      "min         NaN        NaN  1.000000e+00               NaN  1.001000e+03   \n",
      "25%         NaN        NaN  1.800000e+01               NaN  1.817700e+04   \n",
      "50%         NaN        NaN  2.900000e+01               NaN  2.917500e+04   \n",
      "75%         NaN        NaN  4.500000e+01               NaN  4.508100e+04   \n",
      "max         NaN        NaN  5.600000e+01               NaN  5.604500e+04   \n",
      "\n",
      "              County Name  Population Staying at Home  \\\n",
      "count             1001723                1.035625e+06   \n",
      "unique               1877                         NaN   \n",
      "top     Washington County                         NaN   \n",
      "freq                 9560                         NaN   \n",
      "mean                  NaN                1.462917e+05   \n",
      "std                   NaN                2.225797e+06   \n",
      "min                   NaN                8.000000e+00   \n",
      "25%                   NaN                2.079000e+03   \n",
      "50%                   NaN                5.018000e+03   \n",
      "75%                   NaN                1.595000e+04   \n",
      "max                   NaN                1.102118e+08   \n",
      "\n",
      "        Population Not Staying at Home  Number of Trips  Number of Trips <1  \\\n",
      "count                     1.035625e+06     1.035625e+06        1.035625e+06   \n",
      "unique                             NaN              NaN                 NaN   \n",
      "top                                NaN              NaN                 NaN   \n",
      "freq                               NaN              NaN                 NaN   \n",
      "mean                      5.234714e+05     2.477794e+06        6.120798e+05   \n",
      "std                       7.649900e+06     3.618162e+07        9.003866e+06   \n",
      "min                       8.700000e+01     2.200000e+02        0.000000e+00   \n",
      "25%                       9.793000e+03     4.978400e+04        1.048600e+04   \n",
      "50%                       2.347400e+04     1.208760e+05        2.564200e+04   \n",
      "75%                       7.131800e+04     3.603300e+05        7.775300e+04   \n",
      "max                       2.737400e+08     1.569053e+09        4.227002e+08   \n",
      "\n",
      "        ...  Number of Trips 5-10  Number of Trips 10-25  \\\n",
      "count   ...          1.035625e+06           1.035625e+06   \n",
      "unique  ...                   NaN                    NaN   \n",
      "top     ...                   NaN                    NaN   \n",
      "freq    ...                   NaN                    NaN   \n",
      "mean    ...          3.843100e+05           3.759380e+05   \n",
      "std     ...          5.615742e+06           5.502116e+06   \n",
      "min     ...          0.000000e+00           0.000000e+00   \n",
      "25%     ...          6.463000e+03           8.001000e+03   \n",
      "50%     ...          1.699900e+04           1.934500e+04   \n",
      "75%     ...          5.446900e+04           5.515100e+04   \n",
      "max     ...          2.526118e+08           2.565096e+08   \n",
      "\n",
      "        Number of Trips 25-50  Number of Trips 50-100  \\\n",
      "count            1.035625e+06            1.035625e+06   \n",
      "unique                    NaN                     NaN   \n",
      "top                       NaN                     NaN   \n",
      "freq                      NaN                     NaN   \n",
      "mean             1.208128e+05            3.884712e+04   \n",
      "std              1.765528e+06            5.753918e+05   \n",
      "min              0.000000e+00            0.000000e+00   \n",
      "25%              3.860000e+03            1.240000e+03   \n",
      "50%              8.387000e+03            2.717000e+03   \n",
      "75%              2.109600e+04            6.679000e+03   \n",
      "max              7.636732e+07            2.873561e+07   \n",
      "\n",
      "        Number of Trips 100-250  Number of Trips 250-500  \\\n",
      "count              1.035625e+06             1.035625e+06   \n",
      "unique                      NaN                      NaN   \n",
      "top                         NaN                      NaN   \n",
      "freq                        NaN                      NaN   \n",
      "mean               1.582453e+04             3.553210e+03   \n",
      "std                2.404323e+05             5.346122e+04   \n",
      "min                0.000000e+00             0.000000e+00   \n",
      "25%                3.630000e+02             5.800000e+01   \n",
      "50%                8.570000e+02             1.730000e+02   \n",
      "75%                2.372000e+03             5.330000e+02   \n",
      "max                1.447698e+07             3.651375e+06   \n",
      "\n",
      "        Number of Trips >=500             Row ID          Week         Month  \n",
      "count            1.035625e+06            1048575  1.048575e+06  1.048575e+06  \n",
      "unique                    NaN            1048575           NaN           NaN  \n",
      "top                       NaN  19-19193-20191101           NaN           NaN  \n",
      "freq                      NaN                  1           NaN           NaN  \n",
      "mean             3.142248e+03                NaN  2.171479e+01  5.575419e+00  \n",
      "std              5.069772e+04                NaN  1.242963e+01  2.847674e+00  \n",
      "min              0.000000e+00                NaN  0.000000e+00  1.000000e+00  \n",
      "25%              2.700000e+01                NaN  1.100000e+01  3.000000e+00  \n",
      "50%              9.800000e+01                NaN  2.300000e+01  6.000000e+00  \n",
      "75%              4.260000e+02                NaN  3.200000e+01  8.000000e+00  \n",
      "max              5.003062e+06                NaN  5.200000e+01  1.200000e+01  \n",
      "\n",
      "[11 rows x 22 columns]\n"
     ]
    }
   ],
   "source": [
    "print(TripsByDistancePandas.describe(include='all'))"
   ],
   "metadata": {
    "collapsed": false,
    "ExecuteTime": {
     "end_time": "2025-03-17T12:55:25.392877Z",
     "start_time": "2025-03-17T12:55:24.090448Z"
    }
   },
   "id": "84253a8584182378",
   "execution_count": 6
  },
  {
   "cell_type": "markdown",
   "source": [
    " ## Find if there are null values"
   ],
   "metadata": {
    "collapsed": false
   },
   "id": "3faebf5d962e0068"
  },
  {
   "cell_type": "code",
   "outputs": [
    {
     "data": {
      "text/plain": "Month of Date                 False\nWeek of Date                  False\nYear of Date                  False\nLevel                         False\nDate                          False\nWeek Ending Date              False\nTrips <1 Mile                 False\nPeople Not Staying at Home    False\nPopulation Staying at Home    False\nTrips                         False\nTrips 1-25 Miles              False\nTrips 1-3 Miles               False\nTrips 10-25 Miles             False\nTrips 100-250 Miles           False\nTrips 100+ Miles              False\nTrips 25-100 Miles            False\nTrips 25-50 Miles             False\nTrips 250-500 Miles           False\nTrips 3-5 Miles               False\nTrips 5-10 Miles              False\nTrips 50-100 Miles            False\nTrips 500+ Miles              False\ndtype: bool"
     },
     "execution_count": 7,
     "metadata": {},
     "output_type": "execute_result"
    }
   ],
   "source": [
    "TripsFullDataPandas.isnull().any()"
   ],
   "metadata": {
    "collapsed": false,
    "ExecuteTime": {
     "end_time": "2025-03-17T12:55:25.397756Z",
     "start_time": "2025-03-17T12:55:25.392877Z"
    }
   },
   "id": "8b23ae11dadf4f60",
   "execution_count": 7
  },
  {
   "cell_type": "code",
   "outputs": [
    {
     "data": {
      "text/plain": "Level                             False\nDate                              False\nState FIPS                         True\nState Postal Code                  True\nCounty FIPS                        True\nCounty Name                        True\nPopulation Staying at Home         True\nPopulation Not Staying at Home     True\nNumber of Trips                    True\nNumber of Trips <1                 True\nNumber of Trips 1-3                True\nNumber of Trips 3-5                True\nNumber of Trips 5-10               True\nNumber of Trips 10-25              True\nNumber of Trips 25-50              True\nNumber of Trips 50-100             True\nNumber of Trips 100-250            True\nNumber of Trips 250-500            True\nNumber of Trips >=500              True\nRow ID                            False\nWeek                              False\nMonth                             False\ndtype: bool"
     },
     "execution_count": 8,
     "metadata": {},
     "output_type": "execute_result"
    }
   ],
   "source": [
    "TripsByDistancePandas.isnull().any()"
   ],
   "metadata": {
    "collapsed": false,
    "ExecuteTime": {
     "end_time": "2025-03-17T12:55:25.508602Z",
     "start_time": "2025-03-17T12:55:25.397756Z"
    }
   },
   "id": "65f37f51dee9d74a",
   "execution_count": 8
  },
  {
   "cell_type": "code",
   "outputs": [
    {
     "name": "stdout",
     "output_type": "stream",
     "text": [
      "NaN values: 263856\n"
     ]
    }
   ],
   "source": [
    "nanValues = TripsByDistancePandas.isnull().sum().sum()\n",
    "print('NaN values:', nanValues)\n"
   ],
   "metadata": {
    "collapsed": false,
    "ExecuteTime": {
     "end_time": "2025-03-17T12:55:25.620468Z",
     "start_time": "2025-03-17T12:55:25.508602Z"
    }
   },
   "id": "4ada63224ed0cab2",
   "execution_count": 9
  },
  {
   "cell_type": "markdown",
   "source": [
    " ## Creation of files with missing values"
   ],
   "metadata": {
    "collapsed": false
   },
   "id": "7a4075b0ad3ef222"
  },
  {
   "cell_type": "code",
   "outputs": [],
   "source": [
    "rowWithNA = TripsByDistancePandas[TripsByDistancePandas.isna().any(axis=1)]\n",
    "rowWithNA.to_csv('rows_with_na.csv', index=False)"
   ],
   "metadata": {
    "collapsed": false,
    "ExecuteTime": {
     "end_time": "2025-03-17T12:55:26.089181Z",
     "start_time": "2025-03-17T12:55:25.620468Z"
    }
   },
   "id": "19209ebeb30ef75a",
   "execution_count": 10
  },
  {
   "cell_type": "markdown",
   "source": [
    " ## Check for rows with only null/nan values        "
   ],
   "metadata": {
    "collapsed": false
   },
   "id": "dd0905dba0f18d02"
  },
  {
   "cell_type": "code",
   "outputs": [],
   "source": [],
   "metadata": {
    "collapsed": false,
    "ExecuteTime": {
     "end_time": "2025-03-17T12:55:26.091774Z",
     "start_time": "2025-03-17T12:55:26.089181Z"
    }
   },
   "id": "d48229aff27d1866",
   "execution_count": 10
  }
 ],
 "metadata": {
  "kernelspec": {
   "display_name": "Python 3 (ipykernel)",
   "language": "python",
   "name": "python3"
  },
  "language_info": {
   "codemirror_mode": {
    "name": "ipython",
    "version": 3
   },
   "file_extension": ".py",
   "mimetype": "text/x-python",
   "name": "python",
   "nbconvert_exporter": "python",
   "pygments_lexer": "ipython3",
   "version": "3.11.9"
  }
 },
 "nbformat": 4,
 "nbformat_minor": 5
}
