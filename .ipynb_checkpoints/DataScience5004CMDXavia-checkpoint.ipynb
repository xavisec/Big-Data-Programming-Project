{
 "cells": [
  {
   "cell_type": "markdown",
   "source": [
    " # Libraries Import"
   ],
   "metadata": {
    "collapsed": false
   },
   "id": "e02c124b5036151d"
  },
  {
   "cell_type": "code",
   "outputs": [],
   "source": [
    "import pandas as pd\n",
    "import numpy as np\n",
    "import dask as dd"
   ],
   "metadata": {
    "collapsed": false,
    "ExecuteTime": {
     "end_time": "2025-03-05T22:05:21.459314Z",
     "start_time": "2025-03-05T22:05:18.892731Z"
    }
   },
   "id": "4394a8abf5468c97",
   "execution_count": 2
  },
  {
   "cell_type": "markdown",
   "source": [
    " # Loading the Datasets using Pandas and Dask"
   ],
   "metadata": {
    "collapsed": false
   },
   "id": "d4919ca49fe1dc90"
  },
  {
   "cell_type": "code",
   "outputs": [
    {
     "ename": "AttributeError",
     "evalue": "module 'dask' has no attribute 'read_csv'",
     "output_type": "error",
     "traceback": [
      "\u001B[1;31m---------------------------------------------------------------------------\u001B[0m",
      "\u001B[1;31mAttributeError\u001B[0m                            Traceback (most recent call last)",
      "Cell \u001B[1;32mIn[3], line 4\u001B[0m\n\u001B[0;32m      1\u001B[0m TripsFullDataPandas \u001B[38;5;241m=\u001B[39m pd\u001B[38;5;241m.\u001B[39mread_csv(\u001B[38;5;124m'\u001B[39m\u001B[38;5;124m./DataSources/TripsFullData.csv\u001B[39m\u001B[38;5;124m'\u001B[39m)\n\u001B[0;32m      2\u001B[0m TripsByDistancePandas \u001B[38;5;241m=\u001B[39m pd\u001B[38;5;241m.\u001B[39mread_csv(\u001B[38;5;124m'\u001B[39m\u001B[38;5;124m./DataSources/TripsByDistance.csv\u001B[39m\u001B[38;5;124m'\u001B[39m)\n\u001B[1;32m----> 4\u001B[0m TripsFullDataDask \u001B[38;5;241m=\u001B[39m \u001B[43mdd\u001B[49m\u001B[38;5;241;43m.\u001B[39;49m\u001B[43mread_csv\u001B[49m(\u001B[38;5;124m'\u001B[39m\u001B[38;5;124m./DataSources/TripsFullData.csv\u001B[39m\u001B[38;5;124m'\u001B[39m)\n\u001B[0;32m      5\u001B[0m TripsByDistanceDask \u001B[38;5;241m=\u001B[39m dd\u001B[38;5;241m.\u001B[39mread_csv(\u001B[38;5;124m'\u001B[39m\u001B[38;5;124m./DataSources/TripsByDistance.csv\u001B[39m\u001B[38;5;124m'\u001B[39m)\n",
      "\u001B[1;31mAttributeError\u001B[0m: module 'dask' has no attribute 'read_csv'"
     ]
    }
   ],
   "source": [
    "TripsFullDataPandas = pd.read_csv('./DataSources/TripsFullData.csv')\n",
    "TripsByDistancePandas = pd.read_csv('./DataSources/TripsByDistance.csv')\n",
    "\n",
    "TripsFullDataDask = dd.read_csv('./DataSources/TripsFullData.csv')\n",
    "TripsByDistanceDask = dd.read_csv('./DataSources/TripsByDistance.csv')"
   ],
   "metadata": {
    "collapsed": false,
    "ExecuteTime": {
     "end_time": "2025-03-05T22:05:22.819523Z",
     "start_time": "2025-03-05T22:05:21.460328Z"
    }
   },
   "id": "35c541260fe2a568",
   "execution_count": 3
  },
  {
   "cell_type": "markdown",
   "source": [
    " # Exploring the Dataset"
   ],
   "metadata": {
    "collapsed": false
   },
   "id": "4f0b8c4efebd8ad2"
  },
  {
   "cell_type": "code",
   "outputs": [],
   "source": [
    "TripsFullDataPandas.dtypes "
   ],
   "metadata": {
    "collapsed": false
   },
   "id": "821b7259610e0801",
   "execution_count": null
  },
  {
   "cell_type": "code",
   "outputs": [],
   "source": [],
   "metadata": {
    "collapsed": false,
    "ExecuteTime": {
     "start_time": "2025-03-05T22:05:22.820528Z"
    }
   },
   "id": "4feed61cd1eca200"
  }
 ],
 "metadata": {
  "kernelspec": {
   "display_name": "Python 3",
   "language": "python",
   "name": "python3"
  },
  "language_info": {
   "codemirror_mode": {
    "name": "ipython",
    "version": 2
   },
   "file_extension": ".py",
   "mimetype": "text/x-python",
   "name": "python",
   "nbconvert_exporter": "python",
   "pygments_lexer": "ipython2",
   "version": "2.7.6"
  }
 },
 "nbformat": 4,
 "nbformat_minor": 5
}
